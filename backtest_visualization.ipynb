{
 "cells": [
  {
   "cell_type": "markdown",
   "metadata": {},
   "source": [
    "# Visualization of backtests\n",
    "\n",
    "This notebook can be used for the visualization of backtest results for the comparison of pure market making strategies and the trained AIRL strategy."
   ]
  },
  {
   "cell_type": "code",
   "execution_count": null,
   "metadata": {},
   "outputs": [],
   "source": [
    "import os\n",
    "import pickle\n",
    "import time\n",
    "\n",
    "import pandas as pd\n",
    "import polars as pl\n",
    "import numpy as np\n",
    "import matplotlib.pyplot as plt\n",
    "import matplotlib.dates as mdates\n",
    "\n",
    "from datetime import datetime\n",
    "\n",
    "from lob.backtest_metrics import drawdowns\n",
    "from lob.commissions import BitCommissions\n",
    "from lob.exchange import Exchange\n",
    "from lob.traders import PureMarketMaker\n",
    "from lob.plots import (\n",
    "    set_plot_style,\n",
    "    visualize_backtest,\n",
    "    make_drawdown_plot,\n",
    "    make_plot\n",
    ")\n",
    "from lob.utils import get_lot_size, get_tick_size, ensure_dir_exists\n",
    "from rl.utils import send_notification"
   ]
  },
  {
   "cell_type": "code",
   "execution_count": null,
   "metadata": {},
   "outputs": [],
   "source": [
    "# Configure Polars \n",
    "cfg = pl.Config()\n",
    "cfg.set_tbl_rows(20)\n",
    "\n",
    "# Configure plotting\n",
    "set_plot_style()"
   ]
  },
  {
   "cell_type": "code",
   "execution_count": null,
   "metadata": {},
   "outputs": [],
   "source": [
    "# Define custom colors\n",
    "color_green = \"#13961a\"\n",
    "color_red = \"#eb5c14\""
   ]
  },
  {
   "cell_type": "code",
   "execution_count": null,
   "metadata": {},
   "outputs": [],
   "source": [
    "# Set random seed\n",
    "SEED = 1"
   ]
  },
  {
   "cell_type": "code",
   "execution_count": null,
   "metadata": {},
   "outputs": [],
   "source": [
    "save_dir = \"images\"\n",
    "ensure_dir_exists(save_dir)"
   ]
  },
  {
   "cell_type": "markdown",
   "metadata": {},
   "source": [
    "### Visualize backtests for PMM with priority 1 and 100 volume"
   ]
  },
  {
   "cell_type": "code",
   "execution_count": null,
   "metadata": {},
   "outputs": [],
   "source": [
    "save_path = \"automated_backtests/results_2024-02-25_10-58-39.pickle\""
   ]
  },
  {
   "cell_type": "code",
   "execution_count": null,
   "metadata": {},
   "outputs": [],
   "source": [
    "# Load the results from a pickle file\n",
    "with open(save_path, \"rb\") as handle:\n",
    "    results = pickle.load(handle)"
   ]
  },
  {
   "cell_type": "code",
   "execution_count": null,
   "metadata": {},
   "outputs": [],
   "source": [
    "### PMM priority 1 volume 100\n",
    "\n",
    "# Load the results\n",
    "ts = results[\"PMM_prior_1_vol_100\"][\"timestamps\"]\n",
    "trader_stats = results[\"PMM_prior_1_vol_100\"][\"trader_stats\"]\n",
    "initial_cost = results[\"PMM_prior_1_vol_100\"][\"initial_cost\"]\n",
    "\n",
    "# Plot the results\n",
    "# ----------------------------------------------------------------------------\n",
    "# PLOT - Adjusted PnL\n",
    "make_plot(\n",
    "    x=ts,\n",
    "    y=trader_stats[\"adj_pnl\"],\n",
    "    xlabel=\"Time\",\n",
    "    ylabel=\"P&L (USDT)\",\n",
    "    save_path=os.path.join(save_dir, \"PMM_pnl_100.pdf\")\n",
    ")\n",
    "print(f\"Final P&L: {trader_stats['adj_pnl'][-1]}\")\n",
    "\n",
    "# PLOT - Returns\n",
    "equity = pd.Series(np.array(trader_stats[\"adj_pnl\"]) + initial_cost)\n",
    "returns = equity.pct_change() * 100\n",
    "make_plot(\n",
    "    x=ts,\n",
    "    y=returns,\n",
    "    xlabel=\"Time\",\n",
    "    ylabel=\"Returns (%)\",\n",
    "    save_path=os.path.join(save_dir, \"PMM_returns_100.pdf\")\n",
    ")\n",
    "print(\"Returns stats\")\n",
    "print(returns.describe())\n",
    "\n",
    "# PLOT - Drawdowns\n",
    "dd = drawdowns(equity)\n",
    "make_drawdown_plot(\n",
    "    x=ts,\n",
    "    y=dd,\n",
    "    xlabel=\"Time\",\n",
    "    ylabel=\"Drawdown (%)\",\n",
    "    save_path=os.path.join(save_dir, \"PMM_drawdowns_100.pdf\")\n",
    ")\n",
    "print(\"Drawdown stats\")\n",
    "print(dd.describe())\n",
    "\n",
    "# PLOT - Inventory\n",
    "make_plot(\n",
    "    x=ts,\n",
    "    y=trader_stats[\"inventory\"],\n",
    "    xlabel=\"Time\",\n",
    "    ylabel=\"Inventory (SOL)\",\n",
    "    color=\"darkorange\",\n",
    "    save_path=os.path.join(save_dir, \"PMM_inventory_100.pdf\")\n",
    ")\n",
    "print(\"Inventory stats\")\n",
    "print(pd.Series(trader_stats[\"inventory\"]).describe())\n",
    "\n",
    "# PLOT - Total traded volume\n",
    "make_plot(\n",
    "    x=ts,\n",
    "    y=trader_stats[\"total_volume\"],\n",
    "    xlabel=\"Time\",\n",
    "    ylabel=\"Traded volume (USDT)\",\n",
    "    ylim=(-40000, 840000),\n",
    "    color=\"darkorange\",\n",
    "    save_path=os.path.join(save_dir, \"PMM_volume_100.pdf\")\n",
    ")\n",
    "print(\"Total volume: \", trader_stats[\"total_volume\"][-1])\n",
    "\n",
    "# PLOT - Transaction costs\n",
    "make_plot(\n",
    "    x=ts,\n",
    "    y=trader_stats[\"cum_costs\"],\n",
    "    xlabel=\"Time\",\n",
    "    ylabel=\"Transaction fees (USDT)\",\n",
    "    ylim=(-20, 420),\n",
    "    color=\"red\",\n",
    "    save_path=os.path.join(save_dir, \"PMM_fees_100.pdf\")\n",
    ")\n",
    "print(\"Total fees: \", trader_stats[\"cum_costs\"][-1])"
   ]
  },
  {
   "cell_type": "code",
   "execution_count": null,
   "metadata": {},
   "outputs": [],
   "source": [
    "from scipy.stats import gaussian_kde"
   ]
  },
  {
   "cell_type": "code",
   "execution_count": null,
   "metadata": {},
   "outputs": [],
   "source": [
    "returns.dropna()"
   ]
  },
  {
   "cell_type": "code",
   "execution_count": null,
   "metadata": {},
   "outputs": [],
   "source": [
    "# Histogram of returns with KDE\n",
    "fig = plt.figure(figsize=(12, 4.5))\n",
    "plt.hist(returns, bins=50, alpha=1, log=True)\n",
    "# Add kernel density estimate\n",
    "plt.xlabel(\"Returns (%)\")\n",
    "plt.ylabel(\"Frequency\")\n",
    "plt.tight_layout()\n",
    "plt.savefig(os.path.join(save_dir, \"PMM_returns_hist_100.pdf\"))"
   ]
  },
  {
   "cell_type": "markdown",
   "metadata": {},
   "source": [
    "### Comparison of PMM strategies with volume 100"
   ]
  },
  {
   "cell_type": "code",
   "execution_count": null,
   "metadata": {},
   "outputs": [],
   "source": [
    "save_path = \"automated_backtests/results_2024-02-25_10-58-39.pickle\""
   ]
  },
  {
   "cell_type": "code",
   "execution_count": null,
   "metadata": {},
   "outputs": [],
   "source": [
    "# Load the results from a pickle file\n",
    "with open(save_path, \"rb\") as handle:\n",
    "    results = pickle.load(handle)"
   ]
  },
  {
   "cell_type": "code",
   "execution_count": null,
   "metadata": {},
   "outputs": [],
   "source": [
    "results.keys()"
   ]
  },
  {
   "cell_type": "code",
   "execution_count": null,
   "metadata": {},
   "outputs": [],
   "source": [
    "# PnL plot \n",
    "\n",
    "# Set parameters\n",
    "figsize = (12, 4.5)\n",
    "xlabel = \"Time\"\n",
    "ylabel = \"P&L (USDT)\"\n",
    "\n",
    "plt.figure(figsize=figsize)\n",
    "i = 0\n",
    "for key, value in results.items():\n",
    "    x = value[\"timestamps\"]\n",
    "    y = value[\"trader_stats\"][\"adj_pnl\"]\n",
    "    label = f\"PMM (priority {i})\"\n",
    "    plt.plot(x, y, label=label)\n",
    "    print(f\"{key} - {y[-1]:.2f}\")\n",
    "    i += 1\n",
    "    \n",
    "# plt.plot(x, y, color=color)\n",
    "plt.xlabel(xlabel)\n",
    "plt.ylabel(ylabel)\n",
    "plt.legend()\n",
    "plt.tight_layout()\n",
    "plt.savefig(os.path.join(save_dir, \"PMM_comparison_pnl_100.pdf\"))\n",
    "plt.show()"
   ]
  },
  {
   "cell_type": "code",
   "execution_count": null,
   "metadata": {},
   "outputs": [],
   "source": [
    "# Set parameters\n",
    "figsize = (12, 4.5)\n",
    "xlabel = \"Time\"\n",
    "ylabel = \"Traded volume (USDT)\"\n",
    "\n",
    "plt.figure(figsize=figsize)\n",
    "i = 0\n",
    "for key, value in results.items():\n",
    "    x = value[\"timestamps\"]\n",
    "    y = value[\"trader_stats\"][\"total_volume\"]\n",
    "    label = f\"PMM (priority {i})\"\n",
    "    plt.plot(x, y, label=label)\n",
    "    print(f\"{key} - {y[-1]:.2f}\")\n",
    "    i += 1\n",
    "    \n",
    "plt.xlabel(xlabel)\n",
    "plt.ylabel(ylabel)\n",
    "plt.legend()\n",
    "plt.tight_layout()\n",
    "plt.savefig(os.path.join(save_dir, \"PMM_comparison_volume_100.pdf\"))\n",
    "plt.show()"
   ]
  },
  {
   "cell_type": "code",
   "execution_count": null,
   "metadata": {},
   "outputs": [],
   "source": [
    "# Compute hitting probability\n",
    "for key, value in results.items():\n",
    "    trades = np.array(value[\"trader_stats\"][\"trade_count\"])\n",
    "    hits = np.where(trades > 0, 1, 0)\n",
    "            \n",
    "    print(f\"{key} - {np.mean(hits)*100:.2f}\")\n",
    "    print()"
   ]
  },
  {
   "cell_type": "code",
   "execution_count": null,
   "metadata": {},
   "outputs": [],
   "source": [
    "index = 0\n",
    "\n",
    "# Spread histogram\n",
    "fig = plt.figure(figsize=(12, 4.5))\n",
    "for key, value in results.items():\n",
    "    spread = np.array(value[\"trader_stats\"][\"quoted_ask_price\"]) - np.array(value[\"trader_stats\"][\"quoted_bid_price\"])\n",
    "    plt.hist(spread, bins=50, alpha=0.75, log=False, label=f\"PMM (priority {index})\")\n",
    "    mean = np.mean(spread)\n",
    "    plt.vlines(mean, 0, 50000, color=f\"C{index}\", linestyle=\"--\")\n",
    "    print(f\"{key} - mean: {mean:.4f}\")\n",
    "    index += 1\n",
    "# Add kernel density estimate\n",
    "plt.xlabel(\"Spread (USDT)\")\n",
    "plt.ylabel(\"Count\")\n",
    "# Cut off the outliers\n",
    "plt.xlim(0, 0.24)\n",
    "plt.xticks(np.arange(0, 0.24, 0.01), rotation=45)\n",
    "plt.legend()\n",
    "plt.tight_layout()\n",
    "plt.savefig(os.path.join(save_dir, \"PMM_comparison_spread_100.pdf\"))\n",
    "plt.show()"
   ]
  },
  {
   "cell_type": "markdown",
   "metadata": {},
   "source": [
    "### Comparison of PMM strategies with volume 10"
   ]
  },
  {
   "cell_type": "code",
   "execution_count": null,
   "metadata": {},
   "outputs": [],
   "source": [
    "save_path = \"automated_backtests/results_2024-02-25_13-08-03.pickle\""
   ]
  },
  {
   "cell_type": "code",
   "execution_count": null,
   "metadata": {},
   "outputs": [],
   "source": [
    "# Load the results from a pickle file\n",
    "with open(save_path, \"rb\") as handle:\n",
    "    results = pickle.load(handle)"
   ]
  },
  {
   "cell_type": "code",
   "execution_count": null,
   "metadata": {},
   "outputs": [],
   "source": [
    "results.keys()"
   ]
  },
  {
   "cell_type": "code",
   "execution_count": null,
   "metadata": {},
   "outputs": [],
   "source": [
    "# PnL plot \n",
    "\n",
    "# Set parameters\n",
    "figsize = (12, 4.5)\n",
    "xlabel = \"Time\"\n",
    "ylabel = \"P&L (USDT)\"\n",
    "\n",
    "\n",
    "plt.figure(figsize=figsize)\n",
    "i = 0\n",
    "for key, value in results.items():\n",
    "    x = value[\"timestamps\"]\n",
    "    y = value[\"trader_stats\"][\"adj_pnl\"]\n",
    "    label = f\"PMM (priority {i})\"\n",
    "    plt.plot(x, y, label=label)\n",
    "    print(f\"{key} - {y[-1]:.2f}\")\n",
    "    i += 1\n",
    "# plt.plot(x, y, color=color)\n",
    "plt.xlabel(xlabel)\n",
    "plt.ylabel(ylabel)\n",
    "plt.ylim(-105, 55)\n",
    "plt.legend()\n",
    "plt.tight_layout()\n",
    "plt.savefig(os.path.join(save_dir, \"PMM_comparison_pnl_10.pdf\"))\n",
    "plt.show()"
   ]
  },
  {
   "cell_type": "code",
   "execution_count": null,
   "metadata": {},
   "outputs": [],
   "source": [
    "# Set parameters\n",
    "figsize = (12, 4.5)\n",
    "xlabel = \"Time\"\n",
    "ylabel = \"Traded volume (USDT)\"\n",
    "\n",
    "\n",
    "plt.figure(figsize=figsize)\n",
    "i = 0\n",
    "for key, value in results.items():\n",
    "    x = value[\"timestamps\"]\n",
    "    y = value[\"trader_stats\"][\"total_volume\"]\n",
    "    label = f\"PMM (priority {i})\"\n",
    "    plt.plot(x, y, label=label)\n",
    "    print(f\"{key} - {y[-1]:.2f}\")\n",
    "    i += 1\n",
    "plt.xlabel(xlabel)\n",
    "plt.ylabel(ylabel)\n",
    "plt.legend()\n",
    "plt.ylim(-10000, 410000)\n",
    "plt.tight_layout()\n",
    "plt.savefig(os.path.join(save_dir, \"PMM_comparison_volume_10.pdf\"))\n",
    "plt.show()"
   ]
  },
  {
   "cell_type": "code",
   "execution_count": null,
   "metadata": {},
   "outputs": [],
   "source": [
    "# Set parameters\n",
    "figsize = (12, 4.5)\n",
    "xlabel = \"Time\"\n",
    "ylabel = \"Transaction fees (USDT)\"\n",
    "\n",
    "\n",
    "plt.figure(figsize=figsize)\n",
    "i = 0\n",
    "for key, value in results.items():\n",
    "    x = value[\"timestamps\"]\n",
    "    y = value[\"trader_stats\"][\"cum_costs\"]\n",
    "    label = f\"PMM (priority {i})\"\n",
    "    plt.plot(x, y, label=label)\n",
    "    print(f\"{key} - {y[-1]:.2f}\")\n",
    "    i += 1\n",
    "plt.xlabel(xlabel)\n",
    "plt.ylabel(ylabel)\n",
    "plt.legend()\n",
    "plt.tight_layout()\n",
    "# plt.savefig(os.path.join(save_dir, \"PMM_comparison_volume_10.pdf\"))\n",
    "plt.show()"
   ]
  },
  {
   "cell_type": "code",
   "execution_count": null,
   "metadata": {},
   "outputs": [],
   "source": [
    "# Compute hitting probability\n",
    "for key, value in results.items():\n",
    "    trades = np.array(value[\"trader_stats\"][\"trade_count\"])\n",
    "    hits = np.where(trades > 0, 1, 0)\n",
    "            \n",
    "    print(f\"{key} - {np.mean(hits)*100:.2f}\")\n",
    "    print()"
   ]
  },
  {
   "cell_type": "markdown",
   "metadata": {},
   "source": [
    "### Comparison of PMM strategies with volume 100 (different SEEDs)"
   ]
  },
  {
   "cell_type": "code",
   "execution_count": null,
   "metadata": {},
   "outputs": [],
   "source": [
    "save_path = \"automated_backtests/results_2024-02-25_15-16-39.pickle\""
   ]
  },
  {
   "cell_type": "code",
   "execution_count": null,
   "metadata": {},
   "outputs": [],
   "source": [
    "# Load the results from a pickle file\n",
    "with open(save_path, \"rb\") as handle:\n",
    "    results_pmm = pickle.load(handle)\n",
    "    \n",
    "results_pmm.keys()"
   ]
  },
  {
   "cell_type": "code",
   "execution_count": null,
   "metadata": {},
   "outputs": [],
   "source": [
    "# PnL plot \n",
    "\n",
    "# Set parameters\n",
    "figsize = (12, 4.5)\n",
    "xlabel = \"Time\"\n",
    "ylabel = \"P&L (USDT)\"\n",
    "avg = []\n",
    "\n",
    "plt.figure(figsize=figsize)\n",
    "i = 0\n",
    "for key, value in results_pmm.items():\n",
    "    x = value[\"timestamps\"]\n",
    "    y = value[\"trader_stats\"][\"adj_pnl\"]\n",
    "    label = f\"PMM (priority {i})\"\n",
    "    plt.plot(x, y, label=label)\n",
    "    print(f\"{key} - {y[-1]:.2f}\")\n",
    "    i += 1\n",
    "    avg.append(value[\"trader_stats\"][\"adj_pnl\"][-1])\n",
    "    \n",
    "# plt.plot(x, y, color=color)\n",
    "plt.xlabel(xlabel)\n",
    "plt.ylabel(ylabel)\n",
    "plt.ylim(-60, 210)\n",
    "# plt.legend()\n",
    "plt.gca().xaxis.set_major_locator(mdates.DayLocator(interval=1))\n",
    "plt.tight_layout()\n",
    "plt.savefig(os.path.join(save_dir, \"PMM_seeds_comparison_pnl.pdf\"))\n",
    "plt.show()"
   ]
  },
  {
   "cell_type": "code",
   "execution_count": null,
   "metadata": {},
   "outputs": [],
   "source": [
    "print(f\"Mean pnl: {np.mean(avg):.2f}\")\n",
    "print(f\"Std pnl: {np.std(avg):.2f}\")"
   ]
  },
  {
   "cell_type": "code",
   "execution_count": null,
   "metadata": {},
   "outputs": [],
   "source": [
    "# Set parameters\n",
    "figsize = (12, 4.5)\n",
    "xlabel = \"Time\"\n",
    "ylabel = \"Traded volume (USDT)\"\n",
    "avg = []\n",
    "\n",
    "plt.figure(figsize=figsize)\n",
    "i = 0\n",
    "for key, value in results_pmm.items():\n",
    "    x = value[\"timestamps\"]\n",
    "    y = value[\"trader_stats\"][\"total_volume\"]\n",
    "    label = f\"PMM (priority {i})\"\n",
    "    plt.plot(x, y, label=label)\n",
    "    print(f\"{key} - {y[-1]:.2f}\")\n",
    "    avg.append(value[\"trader_stats\"][\"total_volume\"][-1])\n",
    "    i += 1\n",
    "    \n",
    "plt.xlabel(xlabel)\n",
    "plt.ylabel(ylabel)\n",
    "# plt.legend()\n",
    "plt.ylim(-10000, 230000)\n",
    "plt.gca().xaxis.set_major_locator(mdates.DayLocator(interval=1))\n",
    "plt.tight_layout()\n",
    "plt.savefig(os.path.join(save_dir, \"PMM_seeds_comparison_volume.pdf\"))\n",
    "plt.show()"
   ]
  },
  {
   "cell_type": "code",
   "execution_count": null,
   "metadata": {},
   "outputs": [],
   "source": [
    "print(f\"Mean volume: {np.mean(avg):.2f}\")\n",
    "print(f\"Std volume: {np.std(avg):.2f}\")"
   ]
  },
  {
   "cell_type": "code",
   "execution_count": null,
   "metadata": {},
   "outputs": [],
   "source": [
    "# Set parameters\n",
    "figsize = (12, 4.5)\n",
    "xlabel = \"Time\"\n",
    "ylabel = \"Transaction fees (USDT)\"\n",
    "avg = []\n",
    "\n",
    "plt.figure(figsize=figsize)\n",
    "i = 0\n",
    "for key, value in results_pmm.items():\n",
    "    x = value[\"timestamps\"]\n",
    "    y = value[\"trader_stats\"][\"cum_costs\"]\n",
    "    label = f\"PMM (priority {i})\"\n",
    "    plt.plot(x, y, label=label)\n",
    "    print(f\"{key} - {y[-1]:.2f}\")\n",
    "    avg.append(value[\"trader_stats\"][\"cum_costs\"][-1])\n",
    "    i += 1\n",
    "    \n",
    "plt.xlabel(xlabel)\n",
    "plt.ylabel(ylabel)\n",
    "# plt.legend()\n",
    "plt.ylim(-5, 115)\n",
    "plt.gca().xaxis.set_major_locator(mdates.DayLocator(interval=1))\n",
    "plt.tight_layout()\n",
    "plt.savefig(os.path.join(save_dir, \"PMM_seeds_comparison_fees.pdf\"))\n",
    "plt.show()"
   ]
  },
  {
   "cell_type": "code",
   "execution_count": null,
   "metadata": {},
   "outputs": [],
   "source": [
    "print(f\"Mean fees: {np.mean(avg):.2f}\")\n",
    "print(f\"Std fees: {np.std(avg):.2f}\")"
   ]
  },
  {
   "cell_type": "code",
   "execution_count": null,
   "metadata": {},
   "outputs": [],
   "source": [
    "avg = []\n",
    "\n",
    "# Compute hitting probability\n",
    "for key, value in results_pmm.items():\n",
    "    trades = np.array(value[\"trader_stats\"][\"trade_count\"])\n",
    "    hits = np.where(trades > 0, 1, 0)\n",
    "    avg.append(np.mean(hits) * 100)"
   ]
  },
  {
   "cell_type": "code",
   "execution_count": null,
   "metadata": {},
   "outputs": [],
   "source": [
    "print(f\"Mean hitting probability: {np.mean(avg):.2f}%\")\n",
    "print(f\"Std hitting probability: {np.std(avg):.2f}\")"
   ]
  },
  {
   "cell_type": "code",
   "execution_count": null,
   "metadata": {},
   "outputs": [],
   "source": [
    "results_pmm.keys()"
   ]
  },
  {
   "cell_type": "markdown",
   "metadata": {},
   "source": [
    "### Comparison of AIRL strategies with volume 100 (different SEEDs)"
   ]
  },
  {
   "cell_type": "code",
   "execution_count": null,
   "metadata": {},
   "outputs": [],
   "source": [
    "save_path = \"automated_backtests/results_2024-02-25_21-22-46.pickle\""
   ]
  },
  {
   "cell_type": "code",
   "execution_count": null,
   "metadata": {},
   "outputs": [],
   "source": [
    "# Load the results from a pickle file\n",
    "with open(save_path, \"rb\") as handle:\n",
    "    results_airl = pickle.load(handle)\n",
    "    \n",
    "results_airl.keys()"
   ]
  },
  {
   "cell_type": "code",
   "execution_count": null,
   "metadata": {},
   "outputs": [],
   "source": [
    "# PnL plot \n",
    "\n",
    "# Set parameters\n",
    "figsize = (12, 4.5)\n",
    "xlabel = \"Time\"\n",
    "ylabel = \"P&L (USDT)\"\n",
    "avg = []\n",
    "\n",
    "plt.figure(figsize=figsize)\n",
    "i = 0\n",
    "for key, value in results_airl.items():\n",
    "    x = value[\"timestamps\"]\n",
    "    y = value[\"trader_stats\"][\"adj_pnl\"]\n",
    "    label = f\"PMM (priority {i})\"\n",
    "    plt.plot(x, y, label=label)\n",
    "    print(f\"{key} - {y[-1]:.2f}\")\n",
    "    i += 1\n",
    "    avg.append(value[\"trader_stats\"][\"adj_pnl\"][-1])\n",
    "    \n",
    "# plt.plot(x, y, color=color)\n",
    "plt.xlabel(xlabel)\n",
    "plt.ylabel(ylabel)\n",
    "plt.ylim(-60, 210)\n",
    "# plt.legend()\n",
    "plt.gca().xaxis.set_major_locator(mdates.DayLocator(interval=1))\n",
    "plt.tight_layout()\n",
    "plt.savefig(os.path.join(save_dir, \"AIRL_seeds_comparison_pnl.pdf\"))\n",
    "plt.show()"
   ]
  },
  {
   "cell_type": "code",
   "execution_count": null,
   "metadata": {},
   "outputs": [],
   "source": [
    "print(f\"Mean pnl: {np.mean(avg):.2f}\")\n",
    "print(f\"Std pnl: {np.std(avg):.2f}\")"
   ]
  },
  {
   "cell_type": "code",
   "execution_count": null,
   "metadata": {},
   "outputs": [],
   "source": [
    "# Set parameters\n",
    "figsize = (12, 4.5)\n",
    "xlabel = \"Time\"\n",
    "ylabel = \"Traded volume (USDT)\"\n",
    "avg = []\n",
    "\n",
    "plt.figure(figsize=figsize)\n",
    "i = 0\n",
    "for key, value in results_airl.items():\n",
    "    x = value[\"timestamps\"]\n",
    "    y = value[\"trader_stats\"][\"total_volume\"]\n",
    "    label = f\"PMM (priority {i})\"\n",
    "    plt.plot(x, y, label=label)\n",
    "    print(f\"{key} - {y[-1]:.2f}\")\n",
    "    avg.append(value[\"trader_stats\"][\"total_volume\"][-1])\n",
    "    i += 1\n",
    "    \n",
    "plt.xlabel(xlabel)\n",
    "plt.ylabel(ylabel)\n",
    "# plt.legend()\n",
    "plt.ylim(-10000, 230000)\n",
    "plt.gca().xaxis.set_major_locator(mdates.DayLocator(interval=1))\n",
    "plt.tight_layout()\n",
    "plt.savefig(os.path.join(save_dir, \"AIRL_seeds_comparison_volume.pdf\"))\n",
    "plt.show()"
   ]
  },
  {
   "cell_type": "code",
   "execution_count": null,
   "metadata": {},
   "outputs": [],
   "source": [
    "print(f\"Mean volume: {np.mean(avg):.2f}\")\n",
    "print(f\"Std volume: {np.std(avg):.2f}\")"
   ]
  },
  {
   "cell_type": "code",
   "execution_count": null,
   "metadata": {},
   "outputs": [],
   "source": [
    "# Set parameters\n",
    "figsize = (12, 4.5)\n",
    "xlabel = \"Time\"\n",
    "ylabel = \"Transaction fees (USDT)\"\n",
    "avg = []\n",
    "\n",
    "plt.figure(figsize=figsize)\n",
    "i = 0\n",
    "for key, value in results_airl.items():\n",
    "    x = value[\"timestamps\"]\n",
    "    y = value[\"trader_stats\"][\"cum_costs\"]\n",
    "    label = f\"PMM (priority {i})\"\n",
    "    plt.plot(x, y, label=label)\n",
    "    print(f\"{key} - {y[-1]:.2f}\")\n",
    "    avg.append(value[\"trader_stats\"][\"cum_costs\"][-1])\n",
    "    i += 1\n",
    "    \n",
    "plt.xlabel(xlabel)\n",
    "plt.ylabel(ylabel)\n",
    "# plt.legend()\n",
    "plt.ylim(-5, 115)\n",
    "plt.gca().xaxis.set_major_locator(mdates.DayLocator(interval=1))\n",
    "plt.tight_layout()\n",
    "plt.savefig(os.path.join(save_dir, \"AIRL_seeds_comparison_fees.pdf\"))\n",
    "plt.show()"
   ]
  },
  {
   "cell_type": "code",
   "execution_count": null,
   "metadata": {},
   "outputs": [],
   "source": [
    "print(f\"Mean fees: {np.mean(avg):.2f}\")\n",
    "print(f\"Std fees: {np.std(avg):.2f}\")"
   ]
  },
  {
   "cell_type": "code",
   "execution_count": null,
   "metadata": {},
   "outputs": [],
   "source": [
    "avg = []\n",
    "\n",
    "# Compute hitting probability\n",
    "for key, value in results_airl.items():\n",
    "    trades = np.array(value[\"trader_stats\"][\"trade_count\"])\n",
    "    hits = np.where(trades > 0, 1, 0)\n",
    "    avg.append(np.mean(hits) * 100)"
   ]
  },
  {
   "cell_type": "code",
   "execution_count": null,
   "metadata": {},
   "outputs": [],
   "source": [
    "print(f\"Mean hitting probability: {np.mean(avg):.2f}%\")\n",
    "print(f\"Std hitting probability: {np.std(avg):.2f}\")"
   ]
  },
  {
   "cell_type": "markdown",
   "metadata": {},
   "source": [
    "### Seed comparison"
   ]
  },
  {
   "cell_type": "code",
   "execution_count": null,
   "metadata": {},
   "outputs": [],
   "source": [
    "# Fix the seed for visualization\n",
    "seed_visual = 4"
   ]
  },
  {
   "cell_type": "code",
   "execution_count": null,
   "metadata": {},
   "outputs": [],
   "source": [
    "### PMM\n",
    "\n",
    "# Load the results\n",
    "ts = results_pmm[f\"PMM_prior_1_vol_100_{seed_visual}\"][\"timestamps\"]\n",
    "trader_stats = results_pmm[f\"PMM_prior_1_vol_100_{seed_visual}\"][\"trader_stats\"]\n",
    "initial_cost = results_pmm[f\"PMM_prior_1_vol_100_{seed_visual}\"][\"initial_cost\"]\n",
    "\n",
    "# Plot the results\n",
    "# ----------------------------------------------------------------------------\n",
    "# PLOT - PnL\n",
    "plt.figure(figsize=(12, 4.5))\n",
    "plt.plot(ts, trader_stats[\"adj_pnl\"])\n",
    "plt.xlabel(\"Time\")\n",
    "plt.ylabel(\"P&L (USDT)\")\n",
    "plt.gca().xaxis.set_major_locator(mdates.DayLocator(interval=1))\n",
    "plt.tight_layout()\n",
    "plt.savefig(os.path.join(save_dir, \"PMM_seeds_pnl.pdf\"))\n",
    "plt.show()\n",
    "print(f\"Final P&L: {trader_stats['adj_pnl'][-1]}\")\n",
    "\n",
    "# PLOT - Returns\n",
    "equity = pd.Series(np.array(trader_stats[\"adj_pnl\"]) + initial_cost)\n",
    "returns = equity.pct_change() * 100\n",
    "plt.figure(figsize=(12, 4.5))\n",
    "plt.plot(ts, returns)\n",
    "plt.xlabel(\"Time\")\n",
    "plt.ylabel(\"Returns (%)\")\n",
    "plt.gca().xaxis.set_major_locator(mdates.DayLocator(interval=1))\n",
    "plt.tight_layout()\n",
    "plt.savefig(os.path.join(save_dir, \"PMM_seeds_returns.pdf\"))\n",
    "plt.show()\n",
    "print(\"Returns stats\")\n",
    "print(returns.describe())\n",
    "\n",
    "# PLOT - Drawdowns\n",
    "dd = drawdowns(equity)\n",
    "plt.figure(figsize=(12, 4.5))\n",
    "plt.fill_between(ts, dd, 0, color=\"red\", alpha=0.3)\n",
    "plt.plot(ts, dd, color=\"red\", alpha=0.5)\n",
    "plt.xlabel(\"Time\")\n",
    "plt.ylabel(\"Drawdown (%)\")\n",
    "plt.ylim(-0.85, 0.05)\n",
    "plt.gca().xaxis.set_major_locator(mdates.DayLocator(interval=1))\n",
    "plt.tight_layout()\n",
    "plt.savefig(os.path.join(save_dir, \"PMM_seeds_drawdowns.pdf\"))\n",
    "plt.show()\n",
    "print(\"Drawdown stats\")\n",
    "print(dd.describe())\n",
    "\n",
    "# PLOT - Inventory\n",
    "plt.figure(figsize=(12, 4.5))\n",
    "plt.plot(ts, trader_stats[\"inventory\"], color=\"darkorange\",)\n",
    "plt.xlabel(\"Time\")\n",
    "plt.ylabel(\"Inventory (SOL)\")\n",
    "plt.gca().xaxis.set_major_locator(mdates.DayLocator(interval=1))\n",
    "plt.tight_layout()\n",
    "plt.savefig(os.path.join(save_dir, \"PMM_seeds_inventory.pdf\"))\n",
    "plt.show()\n",
    "print(\"Inventory stats\")\n",
    "print(pd.Series(trader_stats[\"inventory\"]).describe())\n",
    "\n",
    "# PLOT - Total traded volume\n",
    "plt.figure(figsize=(12, 4.5))\n",
    "plt.plot(ts, trader_stats[\"total_volume\"], color=\"darkorange\",)\n",
    "plt.xlabel(\"Time\")\n",
    "plt.ylabel(\"Traded volume (USDT)\")\n",
    "plt.gca().xaxis.set_major_locator(mdates.DayLocator(interval=1))\n",
    "plt.tight_layout()\n",
    "plt.savefig(os.path.join(save_dir, \"PMM_seeds_volume.pdf\"))\n",
    "plt.show()\n",
    "print(\"Total volume: \", trader_stats[\"total_volume\"][-1])\n",
    "\n",
    "# PLOT - Transaction costs\n",
    "plt.figure(figsize=(12, 4.5))\n",
    "plt.plot(ts, trader_stats[\"cum_costs\"], color=\"red\",)\n",
    "plt.xlabel(\"Time\")\n",
    "plt.ylabel(\"Transaction fees (USDT)\")\n",
    "plt.gca().xaxis.set_major_locator(mdates.DayLocator(interval=1))\n",
    "plt.tight_layout()\n",
    "plt.savefig(os.path.join(save_dir, \"PMM_seeds_fees.pdf\"))\n",
    "plt.show()\n",
    "print(\"Total fees: \", trader_stats[\"cum_costs\"][-1])"
   ]
  },
  {
   "cell_type": "code",
   "execution_count": null,
   "metadata": {},
   "outputs": [],
   "source": [
    "### AIRL \n",
    "\n",
    "# Load the results\n",
    "airl_ts = results_airl[f\"RL_prior_1_vol_100_{seed_visual}\"][\"timestamps\"]\n",
    "airl_trader_stats = results_airl[f\"RL_prior_1_vol_100_{seed_visual}\"][\"trader_stats\"]\n",
    "airl_initial_cost = results_airl[f\"RL_prior_1_vol_100_{seed_visual}\"][\"initial_cost\"]\n",
    "\n",
    "# Plot the results\n",
    "# ----------------------------------------------------------------------------\n",
    "# PLOT - PnL\n",
    "plt.figure(figsize=(12, 4.5))\n",
    "plt.plot(airl_ts, airl_trader_stats[\"adj_pnl\"], label=\"AIRL\")\n",
    "plt.plot(ts, trader_stats[\"adj_pnl\"], label=\"Expert policy\")\n",
    "plt.xlabel(\"Time\")\n",
    "plt.ylabel(\"P&L (USDT)\")\n",
    "plt.gca().xaxis.set_major_locator(mdates.DayLocator(interval=1))\n",
    "plt.legend(loc=\"upper left\")\n",
    "plt.tight_layout()\n",
    "plt.savefig(os.path.join(save_dir, \"AIRL_seeds_pnl.pdf\"))\n",
    "plt.show()\n",
    "print(f\"Final P&L: {airl_trader_stats['adj_pnl'][-1]}\")\n",
    "\n",
    "# PLOT - Returns\n",
    "equity = pd.Series(np.array(airl_trader_stats[\"adj_pnl\"]) + initial_cost)\n",
    "airl_returns = equity.pct_change() * 100\n",
    "plt.figure(figsize=(12, 4.5))\n",
    "plt.plot(airl_ts, airl_returns)\n",
    "plt.xlabel(\"Time\")\n",
    "plt.ylabel(\"Returns (%)\")\n",
    "plt.gca().xaxis.set_major_locator(mdates.DayLocator(interval=1))\n",
    "plt.tight_layout()\n",
    "plt.savefig(os.path.join(save_dir, \"AIRL_seeds_returns.pdf\"))\n",
    "plt.show()\n",
    "print(\"Returns stats\")\n",
    "print(returns.describe())\n",
    "\n",
    "# PLOT - Drawdowns\n",
    "dd = drawdowns(equity)\n",
    "plt.figure(figsize=(12, 4.5))\n",
    "plt.fill_between(ts, dd, 0, color=\"red\", alpha=0.3)\n",
    "plt.plot(airl_ts, dd, color=\"red\", alpha=0.5)\n",
    "plt.xlabel(\"Time\")\n",
    "plt.ylabel(\"Drawdown (%)\")\n",
    "plt.ylim(-0.85, 0.05)\n",
    "plt.gca().xaxis.set_major_locator(mdates.DayLocator(interval=1))\n",
    "plt.tight_layout()\n",
    "plt.savefig(os.path.join(save_dir, \"AIRL_seeds_drawdowns.pdf\"))\n",
    "plt.show()\n",
    "print(\"Drawdown stats\")\n",
    "print(dd.describe())\n",
    "\n",
    "# PLOT - Inventory\n",
    "plt.figure(figsize=(12, 4.5))\n",
    "plt.plot(airl_ts, airl_trader_stats[\"inventory\"], color=\"darkorange\",)\n",
    "plt.xlabel(\"Time\")\n",
    "plt.ylabel(\"Inventory (SOL)\")\n",
    "plt.gca().xaxis.set_major_locator(mdates.DayLocator(interval=1))\n",
    "plt.tight_layout()\n",
    "plt.savefig(os.path.join(save_dir, \"AIRL_seeds_inventory.pdf\"))\n",
    "plt.show()\n",
    "print(\"Inventory stats\")\n",
    "print(pd.Series(airl_trader_stats[\"inventory\"]).describe())\n",
    "\n",
    "# PLOT - Total traded volume\n",
    "plt.figure(figsize=(12, 4.5))\n",
    "plt.plot(airl_ts, airl_trader_stats[\"total_volume\"], label=\"AIRL\")\n",
    "plt.plot(ts, trader_stats[\"total_volume\"], label=\"Expert policy\")\n",
    "plt.xlabel(\"Time\")\n",
    "plt.ylabel(\"Traded volume (USDT)\")\n",
    "plt.gca().xaxis.set_major_locator(mdates.DayLocator(interval=1))\n",
    "plt.legend(loc=\"upper left\")\n",
    "plt.tight_layout()\n",
    "plt.savefig(os.path.join(save_dir, \"AIRL_seeds_volume.pdf\"))\n",
    "plt.show()\n",
    "print(\"Total volume: \", airl_trader_stats[\"total_volume\"][-1])\n",
    "\n",
    "# PLOT - Transaction costs\n",
    "plt.figure(figsize=(12, 4.5))\n",
    "plt.plot(airl_ts, airl_trader_stats[\"cum_costs\"], label=\"AIRL\")\n",
    "plt.plot(ts, trader_stats[\"cum_costs\"], label=\"Expert policy\")\n",
    "plt.xlabel(\"Time\")\n",
    "plt.ylabel(\"Transaction fees (USDT)\")\n",
    "plt.gca().xaxis.set_major_locator(mdates.DayLocator(interval=1))\n",
    "plt.legend(loc=\"upper left\")\n",
    "plt.tight_layout()\n",
    "plt.savefig(os.path.join(save_dir, \"AIRL_seeds_fees.pdf\"))\n",
    "plt.show()\n",
    "print(\"Total fees: \", airl_trader_stats[\"cum_costs\"][-1])"
   ]
  },
  {
   "cell_type": "code",
   "execution_count": null,
   "metadata": {},
   "outputs": [],
   "source": []
  }
 ],
 "metadata": {
  "kernelspec": {
   "display_name": "reinforcement-learning-NTwPF8vr-py3.11",
   "language": "python",
   "name": "python3"
  },
  "language_info": {
   "codemirror_mode": {
    "name": "ipython",
    "version": 3
   },
   "file_extension": ".py",
   "mimetype": "text/x-python",
   "name": "python",
   "nbconvert_exporter": "python",
   "pygments_lexer": "ipython3",
   "version": "3.11.3"
  }
 },
 "nbformat": 4,
 "nbformat_minor": 2
}
