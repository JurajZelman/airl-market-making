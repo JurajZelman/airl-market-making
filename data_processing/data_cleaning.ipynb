{
 "cells": [
  {
   "cell_type": "markdown",
   "metadata": {},
   "source": [
    "# Data cleaning\n",
    "\n",
    "This notebook is used for the cleaning of few outliers in the SOL-USDT dataset from the BIT.COM exchange where the top ask price skyrocketed to something like 120 from ~20 USDT. This would be worth mentioning in the report but I rather exclude it from the analysis since I'm not sure whether you would be able to capture such spread anyway."
   ]
  },
  {
   "cell_type": "code",
   "execution_count": null,
   "metadata": {},
   "outputs": [],
   "source": [
    "import os\n",
    "import datetime\n",
    "import polars as pl\n",
    "import matplotlib.pyplot as plt\n",
    "import pandas as pd\n",
    "\n",
    "from data.utils import (\n",
    "    get_list_of_second_timestamps,\n",
    "    get_rnd_id,\n",
    "    set_plot_style,\n",
    "    ensure_dir_exists\n",
    ")\n",
    "\n",
    "set_plot_style()"
   ]
  },
  {
   "cell_type": "code",
   "execution_count": null,
   "metadata": {},
   "outputs": [],
   "source": [
    "# Indicate whether to save figures\n",
    "save_fig = False\n",
    "\n",
    "# Set path for figures saving\n",
    "FIGURES_PATH = \"/home/juraj/Projects/thesis-market-making/thesis/images\"\n",
    "ensure_dir_exists(FIGURES_PATH)"
   ]
  },
  {
   "cell_type": "code",
   "execution_count": null,
   "metadata": {},
   "outputs": [],
   "source": [
    "# Set the exchange and symbol\n",
    "# exchange = \"BINANCE\"\n",
    "# exchange = \"OKX\"\n",
    "# exchange = \"GATEIO\"\n",
    "exchange = \"BIT.COM\"\n",
    "\n",
    "symbol = \"SOL-USDT\""
   ]
  },
  {
   "cell_type": "code",
   "execution_count": null,
   "metadata": {},
   "outputs": [],
   "source": [
    "# Set parameters\n",
    "start_date = datetime.datetime(2023, 9, 1)\n",
    "end_date = datetime.datetime(2023, 9, 13)\n",
    "path = os.path.join(os.getcwd(), \"data_test\")\n",
    "second = False"
   ]
  },
  {
   "cell_type": "code",
   "execution_count": null,
   "metadata": {},
   "outputs": [],
   "source": [
    "# Generate a list of dates\n",
    "dates = [start_date + datetime.timedelta(days=x) for x in range((end_date - start_date).days + 1)]"
   ]
  },
  {
   "cell_type": "code",
   "execution_count": null,
   "metadata": {},
   "outputs": [],
   "source": [
    "# Iterate over datafiles and remove outliers\n",
    "prefix = \"order_book\"\n",
    "for date in dates:\n",
    "    file_name = f\"{exchange}_{symbol}_{prefix}_{date.strftime('%Y_%m_%d')}.parquet\"\n",
    "    # df_single = pl.read_parquet(os.path.join(path, file_name))\n",
    "    df = pd.read_parquet(os.path.join(path, file_name))\n",
    "    \n",
    "    # Count number of ts with these outliers\n",
    "    print(f\"Date: \", date)\n",
    "    a = df[\"ask_0_price\"] > 30\n",
    "    b = df[\"ask_1_price\"] > 30\n",
    "    c = df[\"ask_2_price\"] > 30\n",
    "    print(f\"Number of rows to be filtered: {df[a | b | c].shape[0]} out of {df.shape[0]}\")\n",
    "    print(f\"Number of rows to be filtered: {df[a | b | c].shape[0] / df.shape[0] * 100:.2f}%\")\n",
    "    print()\n",
    "    # a_neg = df[\"ask_0_price\"] < 30\n",
    "    # b_neg = df[\"ask_1_price\"] < 30\n",
    "    # c_neg = df[\"ask_2_price\"] < 30\n",
    "    # df_filtered = df[a_neg & b_neg & c_neg]\n",
    "    # file_name_filtered = f\"{exchange}_{symbol}_{prefix}_{date.strftime('%Y_%m_%d')}_filtered.parquet\"\n",
    "    # df_filtered.to_parquet(os.path.join(path, file_name))\n",
    "    \n",
    "    # # Remove outliers\n",
    "    # new_df = df[df[\"ask_0_price\"] < 30]\n",
    "    # new_df = new_df[new_df[\"ask_1_price\"] < 30]\n",
    "    # new_df = new_df[new_df[\"ask_2_price\"] < 30]\n",
    "    # new_df = new_df[new_df[\"ask_3_price\"] < 30]\n",
    "    \n",
    "    # # Save the new dataframe\n",
    "    # new_file_name = f\"{exchange}_{symbol}_{prefix}_{date.strftime('%Y_%m_%d')}.parquet\"\n",
    "    # new_df.to_parquet(os.path.join(path, new_file_name))\n",
    "    # file_name_original = f\"{exchange}_{symbol}_{prefix}_{date.strftime('%Y_%m_%d')}_original.parquet\"\n",
    "    # df.to_parquet(os.path.join(path, file_name_original))"
   ]
  },
  {
   "cell_type": "code",
   "execution_count": null,
   "metadata": {},
   "outputs": [],
   "source": []
  }
 ],
 "metadata": {
  "kernelspec": {
   "display_name": "data-gI9vukfY-py3.10",
   "language": "python",
   "name": "python3"
  },
  "language_info": {
   "codemirror_mode": {
    "name": "ipython",
    "version": 3
   },
   "file_extension": ".py",
   "mimetype": "text/x-python",
   "name": "python",
   "nbconvert_exporter": "python",
   "pygments_lexer": "ipython3",
   "version": "3.10.2"
  }
 },
 "nbformat": 4,
 "nbformat_minor": 2
}
