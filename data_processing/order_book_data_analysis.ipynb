{
 "cells": [
  {
   "cell_type": "markdown",
   "metadata": {},
   "source": [
    "# Exploratory analysis of lob data\n",
    "\n",
    "In this notebook I explore the datasets and plot some of the data."
   ]
  },
  {
   "cell_type": "code",
   "execution_count": null,
   "metadata": {},
   "outputs": [],
   "source": [
    "# TODO:\n",
    "# Plot the order book heatmap\n",
    "# Auto-correlation analysis?"
   ]
  },
  {
   "cell_type": "code",
   "execution_count": null,
   "metadata": {},
   "outputs": [],
   "source": [
    "import os\n",
    "import datetime\n",
    "import matplotlib.pyplot as plt\n",
    "import matplotlib.dates as mdates\n",
    "import numpy as np\n",
    "import pandas as pd\n",
    "import polars as pl\n",
    "\n",
    "from data.utils import get_list_of_dates_between, set_plot_style, ensure_dir_exists"
   ]
  },
  {
   "cell_type": "code",
   "execution_count": null,
   "metadata": {},
   "outputs": [],
   "source": [
    "pl.enable_string_cache(True)\n",
    "set_plot_style()"
   ]
  },
  {
   "cell_type": "code",
   "execution_count": null,
   "metadata": {},
   "outputs": [],
   "source": [
    "# Indicate whether to save figures\n",
    "save_fig = False\n",
    "\n",
    "# Set path for figures saving\n",
    "FIGURES_PATH = \"/home/juraj/Projects/thesis-market-making/thesis/images\"\n",
    "ensure_dir_exists(FIGURES_PATH)"
   ]
  },
  {
   "cell_type": "code",
   "execution_count": null,
   "metadata": {},
   "outputs": [],
   "source": [
    "# Define custom colors\n",
    "color_green = \"#13961a\"\n",
    "color_red = \"#eb5c14\""
   ]
  },
  {
   "cell_type": "code",
   "execution_count": null,
   "metadata": {},
   "outputs": [],
   "source": [
    "# BTC\n",
    "# exchange = \"BINANCE\"\n",
    "# symbol = \"BTC-USDT\"\n",
    "\n",
    "# SOL\n",
    "# exchange = \"BINANCE\"\n",
    "# exchange = \"OKX\"\n",
    "# exchange = \"GATEIO\"\n",
    "exchange = \"BIT.COM\"\n",
    "symbol = \"SOL-USDT\""
   ]
  },
  {
   "cell_type": "markdown",
   "metadata": {},
   "source": [
    "### Load all the data"
   ]
  },
  {
   "cell_type": "code",
   "execution_count": null,
   "metadata": {},
   "outputs": [],
   "source": [
    "# Set parameters\n",
    "start_date = datetime.datetime(2023, 9, 1)\n",
    "end_date = datetime.datetime(2023, 9, 13)\n",
    "path = os.path.join(os.getcwd(), \"datasets\")\n",
    "second = False"
   ]
  },
  {
   "cell_type": "code",
   "execution_count": null,
   "metadata": {},
   "outputs": [],
   "source": [
    "# Get the list of dates\n",
    "dates = get_list_of_dates_between(start_date, end_date)"
   ]
  },
  {
   "cell_type": "code",
   "execution_count": null,
   "metadata": {},
   "outputs": [],
   "source": [
    "# Load the data\n",
    "prefix = \"order_book\"\n",
    "for date in dates:\n",
    "    file_name = f\"{exchange}_{symbol}_{prefix}_{date.strftime('%Y_%m_%d')}.parquet\"\n",
    "    df_single = pd.read_parquet(os.path.join(path, file_name))\n",
    "    if date  == start_date:\n",
    "        df = df_single\n",
    "    else:\n",
    "        df = pd.concat([df, df_single])\n",
    "    \n",
    "df.sort_index(inplace=True)"
   ]
  },
  {
   "cell_type": "code",
   "execution_count": null,
   "metadata": {},
   "outputs": [],
   "source": [
    "df"
   ]
  },
  {
   "cell_type": "markdown",
   "metadata": {},
   "source": [
    "### Analysis"
   ]
  },
  {
   "cell_type": "code",
   "execution_count": null,
   "metadata": {},
   "outputs": [],
   "source": [
    "df[\"mid_price\"] = (df[\"bid_0_price\"] + df[\"ask_0_price\"]) / 2\n",
    "\n",
    "for i in range(3):\n",
    "    df[f\"spread_{i}\"] = df[f\"ask_{i}_price\"] - df[f\"bid_{i}_price\"]"
   ]
  },
  {
   "cell_type": "markdown",
   "metadata": {},
   "source": [
    "### Mid-price and returns analysis"
   ]
  },
  {
   "cell_type": "code",
   "execution_count": null,
   "metadata": {},
   "outputs": [],
   "source": [
    "# Plot the mid-price evolution\n",
    "plt.figure(figsize=(12, 4.5))\n",
    "plt.plot(df[\"mid_price\"])\n",
    "plt.xlabel(\"Time\")\n",
    "plt.ylabel(\"Price (USDT)\")\n",
    "plt.gca().xaxis.set_major_locator(mdates.DayLocator(interval=1))\n",
    "plt.tight_layout()\n",
    "# plt.show()\n",
    "if save_fig:\n",
    "    plt.savefig(os.path.join(FIGURES_PATH, f\"{symbol}_mid_price.pdf\"))"
   ]
  },
  {
   "cell_type": "code",
   "execution_count": null,
   "metadata": {},
   "outputs": [],
   "source": [
    "df[\"mid_price\"].describe()"
   ]
  },
  {
   "cell_type": "code",
   "execution_count": null,
   "metadata": {},
   "outputs": [],
   "source": [
    "# plt.figure(figsize=(12, 4))\n",
    "# plt.plot(df[\"mid_price\"].pct_change())\n",
    "# plt.xlabel(\"Time\")\n",
    "# plt.ylabel(\"Returns\")\n",
    "# plt.tight_layout()\n",
    "# plt.show()"
   ]
  },
  {
   "cell_type": "code",
   "execution_count": null,
   "metadata": {},
   "outputs": [],
   "source": [
    "# # Merge the above two plots into one figure with two subplots\n",
    "# fig, axs = plt.subplots(2, 1, figsize=(12, 8), sharex=False)\n",
    "# axs[0].plot(df[\"mid_price\"])\n",
    "# axs[0].set_ylabel(\"Price\")\n",
    "# axs[1].plot(df[\"mid_price\"].diff())\n",
    "# axs[1].set_ylabel(\"Returns\")\n",
    "# plt.xlabel(\"Time\")\n",
    "# plt.tight_layout()\n",
    "# plt.show()\n",
    "\n",
    "# # Save the figure\n",
    "# if save_fig:\n",
    "#     fig.savefig(f\"{FIGURES_PATH}/mid_price.pdf\")"
   ]
  },
  {
   "cell_type": "code",
   "execution_count": null,
   "metadata": {},
   "outputs": [],
   "source": [
    "# # Plot the histogram of the mid-price returns\n",
    "# fig = plt.figure(figsize=(12, 4))\n",
    "# plt.hist(df[\"mid_price\"].diff(), bins=100, edgecolor=\"black\", log=False)\n",
    "# plt.xlabel(\"Returns\")\n",
    "# plt.ylabel(\"Frequency (log scale)\")\n",
    "# plt.tight_layout()\n",
    "# plt.show()\n",
    "\n",
    "# # Save the figure\n",
    "# if save_fig:\n",
    "#     fig.savefig(f\"{FIGURES_PATH}/mid_price_returns_hist.pdf\")"
   ]
  },
  {
   "cell_type": "code",
   "execution_count": null,
   "metadata": {},
   "outputs": [],
   "source": [
    "# # Print the summary statistics of the mid-price returns\n",
    "# print(df[\"mid_price\"].diff().describe())"
   ]
  },
  {
   "cell_type": "markdown",
   "metadata": {},
   "source": [
    "### Spread analysis"
   ]
  },
  {
   "cell_type": "code",
   "execution_count": null,
   "metadata": {},
   "outputs": [],
   "source": [
    "# Create a grid of subplots\n",
    "fig, axs = plt.subplots(3, 1, figsize=(12, 12), sharey=False)\n",
    "\n",
    "# Plot the bid-ask spread evolution for each level\n",
    "for i in range(3):\n",
    "    axs[i].plot(df[f\"spread_{i}\"])\n",
    "    axs[i].set_xlabel(\"Time\")\n",
    "    axs[i].set_ylabel(f\"Spread on level {i+1}\")\n",
    "\n",
    "plt.tight_layout()\n",
    "plt.show()\n",
    "\n",
    "# Save the figure\n",
    "if save_fig:\n",
    "    fig.savefig(f\"{FIGURES_PATH}/{exchange}_{symbol}_lob_spreads.pdf\")"
   ]
  },
  {
   "cell_type": "code",
   "execution_count": null,
   "metadata": {},
   "outputs": [],
   "source": [
    "# Describe the spread\n",
    "for i in range(3):\n",
    "    print(f\"Spread on level {i+1}\")\n",
    "    print(df[f\"spread_{i}\"].describe())\n",
    "    print()"
   ]
  },
  {
   "cell_type": "markdown",
   "metadata": {},
   "source": [
    "### Prices on different levels"
   ]
  },
  {
   "cell_type": "code",
   "execution_count": null,
   "metadata": {},
   "outputs": [],
   "source": [
    "# # Visualize bid price for each level\n",
    "# for level in range(20):\n",
    "#     fig = plt.figure(figsize=(12, 4))\n",
    "#     plt.plot(df[f\"bid_{level}_price\"])\n",
    "#     plt.xlabel(\"Time\")\n",
    "#     plt.ylabel(f\"Bid price for level {level}\")\n",
    "#     plt.tight_layout()\n",
    "#     plt.show()"
   ]
  },
  {
   "cell_type": "code",
   "execution_count": null,
   "metadata": {},
   "outputs": [],
   "source": [
    "# # Visualize ask price for each level\n",
    "# for level in range(20):\n",
    "#     fig = plt.figure(figsize=(12, 4))\n",
    "#     plt.plot(df[f\"ask_{level}_price\"])\n",
    "#     plt.xlabel(\"Time\")\n",
    "#     plt.ylabel(f\"Ask price for level {level}\")\n",
    "#     plt.tight_layout()\n",
    "#     plt.show()"
   ]
  },
  {
   "cell_type": "markdown",
   "metadata": {},
   "source": [
    "### Best bid and ask volume analysis"
   ]
  },
  {
   "cell_type": "code",
   "execution_count": null,
   "metadata": {},
   "outputs": [],
   "source": [
    "# # Plot the best bid volumes\n",
    "# plt.figure(figsize=(12, 4))\n",
    "# plt.plot(df[\"bid_0_size\"],  color=color_green)\n",
    "# plt.xlabel(\"Time\")\n",
    "# plt.ylabel(\"Volume\")\n",
    "# plt.tight_layout()\n",
    "# plt.show()"
   ]
  },
  {
   "cell_type": "code",
   "execution_count": null,
   "metadata": {},
   "outputs": [],
   "source": [
    "# df[\"bid_0_size\"].describe()"
   ]
  },
  {
   "cell_type": "code",
   "execution_count": null,
   "metadata": {},
   "outputs": [],
   "source": [
    "# # Plot the best ask volumes\n",
    "# plt.figure(figsize=(12, 4))\n",
    "# plt.plot(df[\"ask_0_size\"], color=color_red)\n",
    "# plt.xlabel(\"Time\")\n",
    "# plt.ylabel(\"Volume\")\n",
    "# plt.tight_layout()\n",
    "# plt.show()"
   ]
  },
  {
   "cell_type": "code",
   "execution_count": null,
   "metadata": {},
   "outputs": [],
   "source": [
    "# df[\"ask_0_size\"].describe()"
   ]
  },
  {
   "cell_type": "code",
   "execution_count": null,
   "metadata": {},
   "outputs": [],
   "source": [
    "# Create plot with five subfigures with the best bid volumes\n",
    "fig, axs = plt.subplots(3, 1, figsize=(12, 12), sharey=True)\n",
    "for i in range(3):\n",
    "    axs[i].plot(df[f\"bid_{i}_size\"], color=color_green)\n",
    "    axs[i].set_ylabel(f\"Level {i+1} volume\")\n",
    "    axs[i].set_xlabel(\"Time\")\n",
    "\n",
    "plt.tight_layout()\n",
    "plt.show()\n",
    "\n",
    "# Save the figure\n",
    "if save_fig:\n",
    "    fig.savefig(f\"{FIGURES_PATH}/{exchange}_{symbol}_lob_bid_volumes.pdf\")"
   ]
  },
  {
   "cell_type": "code",
   "execution_count": null,
   "metadata": {},
   "outputs": [],
   "source": [
    "for i in range(3):\n",
    "    print(f\"Level {i} volume statistics\")\n",
    "    # Show descriptive statistics in non-scientific notation\n",
    "    pd.options.display.float_format = '{:.3f}'.format\n",
    "    print(df[f\"bid_{i}_size\"].describe())\n",
    "    print()"
   ]
  },
  {
   "cell_type": "code",
   "execution_count": null,
   "metadata": {},
   "outputs": [],
   "source": [
    "# Create plot with five subfigures containing histograms of the best bid volumes\n",
    "fig, axs = plt.subplots(3, 1, figsize=(12, 12))\n",
    "for i in range(3):\n",
    "    axs[i].hist(df[f\"bid_{i}_size\"], bins=100, edgecolor=\"black\", log=True, color=color_green, linewidth=0.3)\n",
    "    axs[i].set_ylabel(f\"Level {i+1} volume\")\n",
    "    axs[i].set_xlabel(\"Volume\")\n",
    "\n",
    "# Compute max volume for each level\n",
    "max_volumes = [df[f\"bid_{i}_size\"].max() for i in range(3)]\n",
    "max_volume = max(max_volumes)\n",
    "\n",
    "# Set the same x-axis and bins  for all subplots\n",
    "for i in range(3):\n",
    "    axs[i].set_xlim(0, max_volume)\n",
    "    \n",
    "plt.tight_layout()\n",
    "plt.show()\n",
    "\n",
    "# Save the figure\n",
    "if save_fig:\n",
    "    fig.savefig(f\"{FIGURES_PATH}/{exchange}_{symbol}_lob_bid_volumes_hist.pdf\")"
   ]
  },
  {
   "cell_type": "code",
   "execution_count": null,
   "metadata": {},
   "outputs": [],
   "source": [
    "# Create plot with five subfigures with the best ask volumes\n",
    "fig, axs = plt.subplots(3, 1, figsize=(12, 12))\n",
    "for i in range(3):\n",
    "    axs[i].plot(df[f\"ask_{i}_size\"], color=color_red)\n",
    "    axs[i].set_ylabel(f\"Level {i+1} volume\")\n",
    "    axs[i].set_xlabel(\"Time\")\n",
    "\n",
    "plt.tight_layout()\n",
    "plt.show()\n",
    "\n",
    "# Save the figure\n",
    "if save_fig:\n",
    "    fig.savefig(f\"{FIGURES_PATH}/{exchange}_{symbol}_lob_ask_volumes.pdf\")"
   ]
  },
  {
   "cell_type": "code",
   "execution_count": null,
   "metadata": {},
   "outputs": [],
   "source": [
    "for i in range(3):\n",
    "    print(f\"Level {i} volume statistics\")\n",
    "    print(df[f\"ask_{i}_size\"].describe())\n",
    "    print()"
   ]
  },
  {
   "cell_type": "code",
   "execution_count": null,
   "metadata": {},
   "outputs": [],
   "source": [
    "# Create plot with five subfigures containing histograms of the best bid volumes\n",
    "fig, axs = plt.subplots(3, 1, figsize=(12, 12), sharey=True)\n",
    "for i in range(3):\n",
    "    axs[i].hist(df[f\"ask_{i}_size\"], bins=100, edgecolor=\"black\", log=True, color=color_red)\n",
    "    axs[i].set_ylabel(f\"Level {i+1} volume\")\n",
    "    axs[i].set_xlabel(\"Volume\")\n",
    "\n",
    "# Compute max volume for each level\n",
    "max_volumes = [df[f\"ask_{i}_size\"].max() for i in range(3)]\n",
    "max_volume = max(max_volumes)\n",
    "\n",
    "# Set the same x-axis and bins  for all subplots\n",
    "for i in range(3):\n",
    "    axs[i].set_xlim(0, max_volume)\n",
    "    \n",
    "plt.tight_layout()\n",
    "plt.show()\n",
    "\n",
    "# Save the figure\n",
    "if save_fig:\n",
    "    fig.savefig(f\"{FIGURES_PATH}/{exchange}_{symbol}_lob_ask_volumes_hist.pdf\")"
   ]
  },
  {
   "cell_type": "markdown",
   "metadata": {},
   "source": [
    "### Order book imbalance analysis"
   ]
  },
  {
   "cell_type": "code",
   "execution_count": null,
   "metadata": {},
   "outputs": [],
   "source": [
    "# Compute the total volume at each level\n",
    "df[\"bid_total_volume\"] = 0\n",
    "df[\"ask_total_volume\"] = 0\n",
    "for i in range(20):\n",
    "    temp_bid_size = df[f\"bid_{i}_size\"]\n",
    "    temp_ask_size = df[f\"ask_{i}_size\"]\n",
    "    temp_bid_size = temp_bid_size.fillna(0)\n",
    "    temp_ask_size = temp_ask_size.fillna(0)\n",
    "    df[\"bid_total_volume\"] += temp_bid_size\n",
    "    df[\"ask_total_volume\"] += temp_ask_size\n",
    "\n",
    "df[\"imbalance\"] = (df[\"bid_total_volume\"] - df[\"ask_total_volume\"]) / (df[\"bid_total_volume\"] + df[\"ask_total_volume\"])"
   ]
  },
  {
   "cell_type": "code",
   "execution_count": null,
   "metadata": {},
   "outputs": [],
   "source": [
    "df[\"imbalance\"]"
   ]
  },
  {
   "cell_type": "code",
   "execution_count": null,
   "metadata": {},
   "outputs": [],
   "source": [
    "# Plot the imbalance evolution\n",
    "ts_start = datetime.datetime(2023, 9, 1, 9, 0, 0)\n",
    "ts_end = datetime.datetime(2023, 9, 1, 12, 0, 0)\n",
    "\n",
    "fig = plt.figure(figsize=(12, 4))\n",
    "# plt.plot(df[\"imbalance\"][start_index:max_index], color=\"black\")\n",
    "plt.plot(df[\"imbalance\"][ts_start:ts_end], color=\"black\")\n",
    "# Show only hours and minutes in the x-axis\n",
    "plt.gca().xaxis.set_major_formatter(mdates.DateFormatter(\"%H:%M\"))\n",
    "plt.xlabel(\"Time\")\n",
    "plt.ylabel(\"Volume imbalance\")\n",
    "plt.tight_layout()\n",
    "plt.show()\n",
    "\n",
    "# Save the figure\n",
    "if save_fig:\n",
    "    fig.savefig(f\"{FIGURES_PATH}/{exchange}_{symbol}_lob_volume_imbalance.pdf\")"
   ]
  },
  {
   "cell_type": "code",
   "execution_count": null,
   "metadata": {},
   "outputs": [],
   "source": [
    "# Compute the imbalance signal for each level\n",
    "for i in range(20):\n",
    "    df[f\"imbalance_{i}\"] = (df[f\"bid_{i}_size\"] - df[f\"ask_{i}_size\"]) / (df[f\"bid_{i}_size\"] + df[f\"ask_{i}_size\"])"
   ]
  },
  {
   "cell_type": "code",
   "execution_count": null,
   "metadata": {},
   "outputs": [],
   "source": [
    "# Plot the imbalance signal for top 5 levels\n",
    "ts_start = datetime.datetime(2023, 9, 1, 9, 0, 0)\n",
    "ts_end = datetime.datetime(2023, 9, 1, 12, 0, 0)\n",
    "\n",
    "fig, axs = plt.subplots(3, 1, figsize=(12, 12), sharey=True)\n",
    "\n",
    "for i in range(3):\n",
    "    axs[i].plot(df[f\"imbalance_{i}\"][ts_start:ts_end], color=\"black\")\n",
    "    axs[i].set_ylabel(f\"Level {i+1} imbalance\")\n",
    "    axs[i].xaxis.set_major_formatter(mdates.DateFormatter(\"%H:%M\"))\n",
    "    axs[i].set_xlabel(\"Time\")\n",
    "\n",
    "plt.tight_layout()\n",
    "plt.show()\n",
    "\n",
    "# Save the figure\n",
    "if save_fig:\n",
    "    fig.savefig(f\"{FIGURES_PATH}/{exchange}_{symbol}_lob_level_imbalance.pdf\")"
   ]
  },
  {
   "cell_type": "markdown",
   "metadata": {},
   "source": [
    "### Orderbook snapshots"
   ]
  },
  {
   "cell_type": "code",
   "execution_count": null,
   "metadata": {},
   "outputs": [],
   "source": [
    "# Get the timestamps\n",
    "all_timestamps = df.index"
   ]
  },
  {
   "cell_type": "code",
   "execution_count": null,
   "metadata": {},
   "outputs": [],
   "source": [
    "# Find the first index that is larger than the given timestamp\n",
    "def find_first_index_larger_than(timestamp):\n",
    "    for i, ts in enumerate(all_timestamps):\n",
    "        if ts > timestamp:\n",
    "            return i"
   ]
  },
  {
   "cell_type": "code",
   "execution_count": null,
   "metadata": {},
   "outputs": [],
   "source": [
    "index = find_first_index_larger_than(datetime.datetime(2023, 9, 9, 12, 4, 46))"
   ]
  },
  {
   "cell_type": "code",
   "execution_count": null,
   "metadata": {},
   "outputs": [],
   "source": [
    "depth = 15 if exchange == \"BINANCE\" else 6\n",
    "# index_start = 12450\n",
    "# index_end = index_start + 1\n",
    "index_start = index\n",
    "index_end = index_start + 1\n",
    "\n",
    "for i in range(index_start, index_end):\n",
    "    ts = all_timestamps[i]\n",
    "    bid_prices_labels = [f\"bid_{i}_price\" for i in range(depth)]\n",
    "    ask_prices_labels = [f\"ask_{i}_price\" for i in range(depth)]\n",
    "    bid_sizes_labels = [f\"bid_{i}_size\" for i in range(depth)]\n",
    "    ask_sizes_labels = [f\"ask_{i}_size\" for i in range(depth)]\n",
    "\n",
    "    # Process for one timestamp\n",
    "    row = df.loc[ts]\n",
    "    bid_prices = row[bid_prices_labels].to_numpy().flatten()\n",
    "    ask_prices = row[ask_prices_labels].to_numpy().flatten()\n",
    "    bid_volumes = row[bid_sizes_labels].to_numpy().cumsum()\n",
    "    ask_volumes = row[ask_sizes_labels].to_numpy().cumsum()\n",
    "    \n",
    "    # Visualization for trading rules\n",
    "    # bid_prices = np.insert(bid_prices, 1, 19.54)\n",
    "    # bid_volumes = np.insert(bid_volumes, 1, 0)\n",
    "    # bid_volumes[0] = 50\n",
    "    # ask_volumes[0] = 50\n",
    "    # print(bid_prices)\n",
    "    # print(bid_volumes)\n",
    "    \n",
    "    # X-axis\n",
    "    spread_space = 1\n",
    "    x_axis = np.arange(0, 2 * depth + spread_space, 1)\n",
    "    # Visualization for trading rules\n",
    "    # spread_space = 2 # Number of ticks to leave in the middle\n",
    "    # x_axis = np.arange(0, 2 * depth + spread_space + 1, 1)\n",
    "    \n",
    "    fig = plt.figure(figsize=(12, 5))\n",
    "    \n",
    "    plt.bar(\n",
    "        # x_axis[:depth + 1], # Visualization for trading rules\n",
    "        x_axis[:depth],\n",
    "        bid_volumes[::-1],\n",
    "        label=\"Bid\",\n",
    "        color=\"#9ED166\",\n",
    "        width=1,\n",
    "        edgecolor=\"black\",\n",
    "        linewidth=1.3,\n",
    "    )\n",
    "    plt.bar(\n",
    "        # x_axis[depth + 1 + spread_space:],  # Visualization for trading rules\n",
    "        x_axis[depth + spread_space:], \n",
    "        ask_volumes,\n",
    "        label=\"Ask\",\n",
    "        color=\"#EB735F\",\n",
    "        width=1,\n",
    "        edgecolor=\"black\",\n",
    "        linewidth=1.3,\n",
    "    )\n",
    "    x_ticks = np.append(bid_prices[::-1], ask_prices)\n",
    "    x_ticks = np.insert(x_ticks, depth, \"\")\n",
    "    \n",
    "    # Visualization for trading rules\n",
    "    # x_ticks = np.insert(x_ticks, depth + 1, \"19.56\")\n",
    "    # x_ticks = np.insert(x_ticks, depth + 2, \"19.57\")\n",
    "    # print(x_ticks)\n",
    "    \n",
    "    plt.xticks(x_axis, x_ticks, rotation=45, size=12)\n",
    "    \n",
    "    # plt.title(f\"Order book at {ts.strftime('%Y-%m-%d %H:%M:%S')}\")\n",
    "    plt.xlabel(\"Price\")\n",
    "    plt.ylabel(\"Volume\")\n",
    "    plt.tight_layout()\n",
    "    plt.show()\n",
    "    \n",
    "    # Save the figure\n",
    "    if save_fig:\n",
    "        ts_str = ts.strftime(\"%Y_%m_%d_%H_%M_%S\")\n",
    "        fig.savefig(f\"{FIGURES_PATH}/{exchange}_{symbol}_lob_{ts_str}.pdf\")"
   ]
  },
  {
   "cell_type": "markdown",
   "metadata": {},
   "source": [
    "### Orderbook heatmap"
   ]
  },
  {
   "cell_type": "code",
   "execution_count": null,
   "metadata": {},
   "outputs": [],
   "source": [
    "df.head()"
   ]
  },
  {
   "cell_type": "code",
   "execution_count": null,
   "metadata": {},
   "outputs": [],
   "source": [
    "col_prices = [f\"bid_{i}_price\" for i in range(20)] + [f\"ask_{i}_price\" for i in range(20)]\n",
    "col_volumes = [f\"bid_{i}_size\" for i in range(20)] + [f\"ask_{i}_size\" for i in range(20)]"
   ]
  },
  {
   "cell_type": "code",
   "execution_count": null,
   "metadata": {},
   "outputs": [],
   "source": [
    "row = df.iloc[0]"
   ]
  },
  {
   "cell_type": "code",
   "execution_count": null,
   "metadata": {},
   "outputs": [],
   "source": [
    "# Plot the limit order book heatmap\n",
    "plt.figure(figsize=(10, 4))\n",
    "row = df.iloc[0]\n",
    "ts = row[\"received_time\"]\n",
    "prices = row[col_prices].values\n",
    "volumes = row[col_volumes].values\n",
    "\n",
    "plt.scatter(ts, prices, c=\"black\")\n"
   ]
  },
  {
   "cell_type": "code",
   "execution_count": null,
   "metadata": {},
   "outputs": [],
   "source": [
    "import matplotlib.pyplot as plt\n",
    "import numpy as np\n",
    "import pandas as pd\n",
    "\n",
    "# Sample data\n",
    "data = {\n",
    "    'Timestamp': pd.to_datetime(['2023-01-01 10:00:00', '2023-01-01 10:01:00', '2023-01-01 10:02:00']),\n",
    "    'Price': [100, 101, 99],\n",
    "    'Volume': [50, 30, 20],\n",
    "}\n",
    "\n",
    "df = pd.DataFrame(data)\n",
    "\n",
    "# Create a scatter plot\n",
    "plt.figure(figsize=(10, 6))\n",
    "\n",
    "# Plot each data point with a color representing volume\n",
    "for i in range(len(df)):\n",
    "    plt.scatter(df['Timestamp'][i], df['Price'][i], s=df['Volume'][i], c=np.random.rand(3,))\n",
    "\n",
    "# Set axis labels and title\n",
    "plt.xlabel('Timestamp')\n",
    "plt.ylabel('Price')\n",
    "plt.title('Limit Order Book')\n",
    "\n",
    "# Show the plot\n",
    "plt.show()"
   ]
  },
  {
   "cell_type": "code",
   "execution_count": null,
   "metadata": {},
   "outputs": [],
   "source": [
    "import matplotlib.pyplot as plt\n",
    "import numpy as np\n",
    "\n",
    "# Sample data\n",
    "timestamps = ['10:00', '10:01', '10:02', '10:03']\n",
    "bid_prices = [[100, 99, 98, 97, 96, 95, 94, 93, 92, 91],\n",
    "              [101, 100, 99, 98, 97, 96, 95, 94, 93, 92],\n",
    "              [102, 101, 100, 99, 98, 97, 96, 95, 94, 93],\n",
    "              [103, 102, 101, 100, 99, 98, 97, 96, 95, 94]]\n",
    "ask_prices = [[105, 106, 107, 108, 109, 110, 111, 112, 113, 114],\n",
    "              [104, 105, 106, 107, 108, 109, 110, 111, 112, 113],\n",
    "              [103, 104, 105, 106, 107, 108, 109, 110, 111, 112],\n",
    "              [102, 103, 104, 105, 106, 107, 108, 109, 110, 111]]\n",
    "bid_volumes = [[10, 15, 8, 5, 12, 7, 10, 6, 8, 14],\n",
    "               [8, 10, 12, 15, 7, 9, 11, 13, 6, 10],\n",
    "               [14, 7, 10, 12, 8, 15, 9, 11, 13, 6],\n",
    "               [9, 12, 8, 14, 10, 11, 7, 13, 6, 15]]\n",
    "ask_volumes = [[5, 10, 7, 12, 9, 14, 8, 11, 6, 13],\n",
    "               [12, 8, 15, 7, 11, 10, 9, 13, 6, 14],\n",
    "               [10, 13, 6, 11, 14, 8, 9, 7, 12, 15],\n",
    "               [11, 7, 13, 10, 9, 12, 8, 14, 6, 15]]\n",
    "\n",
    "# Plotting\n",
    "fig, ax = plt.subplots(figsize=(10, 6))\n",
    "\n",
    "for i in range(len(timestamps)):\n",
    "    # Plotting bid prices and volumes\n",
    "    ax.scatter([i]*len(bid_prices[i]), bid_prices[i], s=bid_volumes[i], c='b', label='Bid', alpha=0.5)\n",
    "\n",
    "    # Plotting ask prices and volumes\n",
    "    ax.scatter([i]*len(ask_prices[i]), ask_prices[i], s=ask_volumes[i], c='r', label='Ask', alpha=0.5)\n",
    "\n",
    "ax.set_xticks(range(len(timestamps)))\n",
    "ax.set_xticklabels(timestamps)\n",
    "ax.set_xlabel('Timestamp')\n",
    "ax.set_ylabel('Price')\n",
    "ax.legend()\n",
    "plt.title('Limit Order Book Visualization')\n",
    "plt.show()"
   ]
  },
  {
   "cell_type": "code",
   "execution_count": null,
   "metadata": {},
   "outputs": [],
   "source": [
    "import matplotlib.pyplot as plt\n",
    "import numpy as np\n",
    "\n",
    "# Sample data\n",
    "timestamps = ['10:00', '10:01', '10:02', '10:03']\n",
    "bid_prices = [[100, 99, 98, 97, 96, 95, 94, 93, 92, 91],\n",
    "              [101, 100, 99, 98, 97, 96, 95, 94, 93, 92],\n",
    "              [102, 101, 100, 99, 98, 97, 96, 95, 94, 93],\n",
    "              [103, 102, 101, 100, 99, 98, 97, 96, 95, 94]]\n",
    "ask_prices = [[105, 106, 107, 108, 109, 110, 111, 112, 113, 114],\n",
    "              [104, 105, 106, 107, 108, 109, 110, 111, 112, 113],\n",
    "              [103, 104, 105, 106, 107, 108, 109, 110, 111, 112],\n",
    "              [102, 103, 104, 105, 106, 107, 108, 109, 110, 111]]\n",
    "bid_volumes = [[10, 15, 8, 5, 12, 7, 10, 6, 8, 14],\n",
    "               [8, 10, 12, 15, 7, 9, 11, 13, 6, 10],\n",
    "               [14, 7, 10, 12, 8, 15, 9, 11, 13, 6],\n",
    "               [9, 12, 8, 14, 10, 11, 7, 13, 6, 15]]\n",
    "ask_volumes = [[5, 10, 7, 12, 9, 14, 8, 11, 6, 13],\n",
    "               [12, 8, 15, 7, 11, 10, 9, 13, 6, 14],\n",
    "               [10, 13, 6, 11, 14, 8, 9, 7, 12, 15],\n",
    "               [11, 7, 13, 10, 9, 12, 8, 14, 6, 15]]\n",
    "\n",
    "# Plotting\n",
    "fig, ax = plt.subplots(figsize=(10, 6))\n",
    "\n",
    "for i in range(len(timestamps)):\n",
    "    # Set color based on volume using the viridis colormap\n",
    "    bid_colors = plt.cm.viridis(np.array(bid_volumes[i]) / max(bid_volumes[i]))\n",
    "    ask_colors = plt.cm.viridis(np.array(ask_volumes[i]) / max(ask_volumes[i]))\n",
    "\n",
    "    # Plotting bid prices and volumes with color\n",
    "    ax.scatter([i]*len(bid_prices[i]), bid_prices[i], c=bid_colors, label='Bid', alpha=0.8)\n",
    "\n",
    "    # Plotting ask prices and volumes with color\n",
    "    ax.scatter([i]*len(ask_prices[i]), ask_prices[i], c=ask_colors, label='Ask', alpha=0.8)\n",
    "\n",
    "ax.set_xticks(range(len(timestamps)))\n",
    "ax.set_xticklabels(timestamps)\n",
    "ax.set_xlabel('Timestamp')\n",
    "ax.set_ylabel('Price')\n",
    "ax.legend()\n",
    "plt.title('Limit Order Book Visualization with Volume-based Color')\n",
    "plt.show()\n"
   ]
  },
  {
   "cell_type": "code",
   "execution_count": null,
   "metadata": {},
   "outputs": [],
   "source": [
    "import matplotlib.pyplot as plt\n",
    "import numpy as np\n",
    "\n",
    "# Sample data\n",
    "timestamps = ['10:00', '10:01', '10:02', '10:03']\n",
    "bid_prices = [[100, 99, 98, 97, 96, 95, 94, 93, 92, 91],\n",
    "              [101, 100, 99, 98, 97, 96, 95, 94, 93, 92],\n",
    "              [102, 101, 100, 99, 98, 97, 96, 95, 94, 93],\n",
    "              [103, 102, 101, 100, 99, 98, 97, 96, 95, 94]]\n",
    "ask_prices = [[105, 106, 107, 108, 109, 110, 111, 112, 113, 114],\n",
    "              [104, 105, 106, 107, 108, 109, 110, 111, 112, 113],\n",
    "              [103, 104, 105, 106, 107, 108, 109, 110, 111, 112],\n",
    "              [102, 103, 104, 105, 106, 107, 108, 109, 110, 111]]\n",
    "bid_volumes = [[10, 15, 8, 5, 12, 7, 10, 6, 8, 14],\n",
    "               [8, 10, 12, 15, 7, 9, 11, 13, 6, 10],\n",
    "               [14, 7, 10, 12, 8, 15, 9, 11, 13, 6],\n",
    "               [9, 12, 8, 14, 10, 11, 7, 13, 6, 15]]\n",
    "ask_volumes = [[5, 10, 7, 12, 9, 14, 8, 11, 6, 13],\n",
    "               [12, 8, 15, 7, 11, 10, 9, 13, 6, 14],\n",
    "               [10, 13, 6, 11, 14, 8, 9, 7, 12, 15],\n",
    "               [11, 7, 13, 10, 9, 12, 8, 14, 6, 15]]\n",
    "\n",
    "# Plotting\n",
    "fig, ax = plt.subplots(figsize=(10, 6))\n",
    "\n",
    "timestamps = df[\"received_time\"][:10]\n",
    "max_volume = 0\n",
    "for i in range(1):\n",
    "    max_volume = max(\n",
    "        df[f\"bid_{i}_size\"].max(), df[f\"ask_{i}_size\"].max(), max_volume\n",
    "    )\n",
    " \n",
    "for i in range(len(timestamps)):\n",
    "    row = df.iloc[i]\n",
    "    bid_prices = list(row[col_prices].values)\n",
    "    bid_volumes = list(row[col_volumes].values)\n",
    "    ask_prices = list(row[col_prices].values)\n",
    "    ask_volumes = list(row[col_volumes].values)\n",
    "    \n",
    "    # Set color based on volume using the viridis colormap\n",
    "    bid_colors = plt.cm.viridis(np.array(bid_volumes) / max_volume)\n",
    "    ask_colors = plt.cm.viridis(np.array(ask_volumes) / max_volume)\n",
    "\n",
    "    # Plotting bid prices and volumes with color\n",
    "    ax.scatter([i]*len(bid_prices), bid_prices, c=bid_colors, label='Bid', alpha=0.8)\n",
    "\n",
    "    # Plotting ask prices and volumes with color\n",
    "    ax.scatter([i]*len(ask_prices), ask_prices, c=ask_colors, label='Ask', alpha=0.8)\n",
    "\n",
    "ax.set_xticks(range(len(timestamps)))\n",
    "# ax.set_xticklabels(timestamps)\n",
    "ax.set_xlabel('Timestamp')\n",
    "ax.set_ylabel('Price')\n",
    "# ax.legend()\n",
    "plt.title('Limit Order Book Visualization with Volume-based Color')\n",
    "plt.show()\n"
   ]
  },
  {
   "cell_type": "code",
   "execution_count": null,
   "metadata": {},
   "outputs": [],
   "source": [
    "bid_colors"
   ]
  },
  {
   "cell_type": "code",
   "execution_count": null,
   "metadata": {},
   "outputs": [],
   "source": []
  },
  {
   "cell_type": "code",
   "execution_count": null,
   "metadata": {},
   "outputs": [],
   "source": []
  },
  {
   "cell_type": "markdown",
   "metadata": {},
   "source": [
    "### Generate random sequence number for each snapshot"
   ]
  },
  {
   "cell_type": "code",
   "execution_count": null,
   "metadata": {},
   "outputs": [],
   "source": [
    "# BTC\n",
    "# exchange = \"BINANCE\"\n",
    "# symbol = \"BTC-USDT\"\n",
    "\n",
    "# SOL\n",
    "# exchange = \"BINANCE\"\n",
    "exchange = \"OKX\"\n",
    "# exchange = \"GATEIO\"\n",
    "# exchange = \"BIT.COM\"\n",
    "symbol = \"SOL-USDT\""
   ]
  },
  {
   "cell_type": "code",
   "execution_count": null,
   "metadata": {},
   "outputs": [],
   "source": [
    "# Set parameters\n",
    "start_date = datetime.datetime(2023, 9, 1)\n",
    "end_date = datetime.datetime(2023, 9, 13)\n",
    "path = os.path.join(os.getcwd(), \"datasets\")\n",
    "second = False"
   ]
  },
  {
   "cell_type": "code",
   "execution_count": null,
   "metadata": {},
   "outputs": [],
   "source": [
    "# Get the list of dates\n",
    "dates = get_list_of_dates_between(start_date, end_date)"
   ]
  },
  {
   "cell_type": "code",
   "execution_count": null,
   "metadata": {},
   "outputs": [],
   "source": [
    "# # Load the data\n",
    "# prefix = \"order_book\"\n",
    "# for date in dates:\n",
    "#     file_name = f\"{exchange}_{symbol}_{prefix}_{date.strftime('%Y_%m_%d')}.parquet\"\n",
    "#     df = pd.read_parquet(os.path.join(path, file_name))\n",
    "    \n",
    "#     # Generate random sequence numbers\n",
    "#     df[\"sequence_number\"] = np.random.randint(10000000, 100000000, df.shape[0])\n",
    "#     df.to_parquet(os.path.join(path, file_name))\n",
    "    "
   ]
  },
  {
   "cell_type": "markdown",
   "metadata": {},
   "source": [
    "### Load a single day of data"
   ]
  },
  {
   "cell_type": "code",
   "execution_count": null,
   "metadata": {},
   "outputs": [],
   "source": [
    "# Set parameters\n",
    "date = datetime.datetime(2023, 9, 1)\n",
    "path = os.path.join(os.getcwd(), \"datasets\")\n",
    "second = False"
   ]
  },
  {
   "cell_type": "code",
   "execution_count": null,
   "metadata": {},
   "outputs": [],
   "source": [
    "# Load the data\n",
    "prefix = \"order_book_second\" if second else \"order_book\"\n",
    "file_name = f\"{exchange}_{symbol}_{prefix}_{date.strftime('%Y_%m_%d')}.parquet\"\n",
    "df = pl.read_parquet(os.path.join(path, file_name))"
   ]
  },
  {
   "cell_type": "code",
   "execution_count": null,
   "metadata": {},
   "outputs": [],
   "source": [
    "# Check df length\n",
    "print(f\"Number of rows: {len(df)}\")"
   ]
  },
  {
   "cell_type": "code",
   "execution_count": null,
   "metadata": {},
   "outputs": [],
   "source": [
    "df"
   ]
  },
  {
   "cell_type": "code",
   "execution_count": null,
   "metadata": {},
   "outputs": [],
   "source": [
    "# df.head(10)"
   ]
  }
 ],
 "metadata": {
  "kernelspec": {
   "display_name": "data-gI9vukfY-py3.10",
   "language": "python",
   "name": "python3"
  },
  "language_info": {
   "codemirror_mode": {
    "name": "ipython",
    "version": 3
   },
   "file_extension": ".py",
   "mimetype": "text/x-python",
   "name": "python",
   "nbconvert_exporter": "python",
   "pygments_lexer": "ipython3",
   "version": "3.10.2"
  }
 },
 "nbformat": 4,
 "nbformat_minor": 2
}
