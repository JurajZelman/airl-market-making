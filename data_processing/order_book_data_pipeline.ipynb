{
 "cells": [
  {
   "cell_type": "markdown",
   "metadata": {},
   "source": [
    "# Limit Order Book data pipeline\n",
    "\n",
    "Full pipeline for downloading and processing the limit order book data."
   ]
  },
  {
   "cell_type": "code",
   "execution_count": 1,
   "metadata": {},
   "outputs": [],
   "source": [
    "import os\n",
    "import datetime\n",
    "import lakeapi\n",
    "import polars as pl\n",
    "\n",
    "from tqdm import tqdm\n",
    "\n",
    "from data.downloaders import download_lob_data"
   ]
  },
  {
   "cell_type": "markdown",
   "metadata": {},
   "source": [
    "### Data download\n",
    "\n",
    "This section contains the code for downloading lob data between two dates."
   ]
  },
  {
   "cell_type": "code",
   "execution_count": 2,
   "metadata": {},
   "outputs": [],
   "source": [
    "# Set the parameters for the download\n",
    "# symbol = \"BTC-USDT\"\n",
    "# exchange = \"BINANCE\"\n",
    "symbol = \"SOL-USDT\"\n",
    "exchange = \"BIT.COM\"\n",
    "# exchange = \"BINANCE\"\n",
    "# exchange = \"OKX\"\n",
    "# exchange = \"GATEIO\"\n",
    "\n",
    "path = os.path.join(os.getcwd(), \"data_test\")\n",
    "second = False  # Process to second data \n",
    "raw = True\n",
    "\n",
    "# Set start and end dates\n",
    "start_date = datetime.datetime(2023, 9, 1)\n",
    "end_date = datetime.datetime(2023, 9, 13)"
   ]
  },
  {
   "cell_type": "code",
   "execution_count": 3,
   "metadata": {},
   "outputs": [],
   "source": [
    "# Generate a list of dates between start and end dates\n",
    "dates = [start_date + datetime.timedelta(days=x) for x in range((end_date - start_date).days + 1)]"
   ]
  },
  {
   "cell_type": "code",
   "execution_count": null,
   "metadata": {},
   "outputs": [],
   "source": [
    "# Download the data\n",
    "for date in tqdm(dates):\n",
    "    download_lob_data(date, symbol, exchange, path, second, raw)"
   ]
  },
  {
   "cell_type": "code",
   "execution_count": null,
   "metadata": {},
   "outputs": [],
   "source": []
  }
 ],
 "metadata": {
  "kernelspec": {
   "display_name": "data-gI9vukfY-py3.10",
   "language": "python",
   "name": "python3"
  },
  "language_info": {
   "codemirror_mode": {
    "name": "ipython",
    "version": 3
   },
   "file_extension": ".py",
   "mimetype": "text/x-python",
   "name": "python",
   "nbconvert_exporter": "python",
   "pygments_lexer": "ipython3",
   "version": "3.10.12"
  }
 },
 "nbformat": 4,
 "nbformat_minor": 2
}
