{
 "cells": [
  {
   "cell_type": "markdown",
   "metadata": {},
   "source": [
    "# LOB volumes analysis\n",
    "\n",
    "The goal of this notebook is to preprocess sample distributions for each level of the order book from which one can sample random volumes that can be used in the simulation, e.g. for simulating reactions to agent's limit orders."
   ]
  },
  {
   "cell_type": "code",
   "execution_count": null,
   "metadata": {},
   "outputs": [],
   "source": [
    "import os\n",
    "import datetime\n",
    "\n",
    "import matplotlib.pyplot as plt\n",
    "import pandas as pd\n",
    "import polars as pl\n",
    "\n",
    "from data.utils import get_list_of_dates_between, set_plot_style, ensure_dir_exists"
   ]
  },
  {
   "cell_type": "code",
   "execution_count": null,
   "metadata": {},
   "outputs": [],
   "source": [
    "pl.enable_string_cache(True)\n",
    "set_plot_style()"
   ]
  },
  {
   "cell_type": "markdown",
   "metadata": {},
   "source": [
    "### Load the insample data\n",
    "\n",
    "Load the insample dataset from the daily parquet files."
   ]
  },
  {
   "cell_type": "code",
   "execution_count": null,
   "metadata": {},
   "outputs": [],
   "source": [
    "# SOL-USDT\n",
    "exchange = \"BIT.COM\"\n",
    "symbol = \"SOL-USDT\""
   ]
  },
  {
   "cell_type": "code",
   "execution_count": null,
   "metadata": {},
   "outputs": [],
   "source": [
    "# Set parameters\n",
    "start_date = datetime.datetime(2023, 9, 1)\n",
    "end_date = datetime.datetime(2023, 9, 10) # Use the insample data\n",
    "path = os.path.join(os.getcwd(), \"datasets\")\n",
    "second = False"
   ]
  },
  {
   "cell_type": "code",
   "execution_count": null,
   "metadata": {},
   "outputs": [],
   "source": [
    "# Get the list of dates\n",
    "dates = get_list_of_dates_between(start_date, end_date)"
   ]
  },
  {
   "cell_type": "code",
   "execution_count": null,
   "metadata": {},
   "outputs": [],
   "source": [
    "# Load the data\n",
    "prefix = \"order_book\"\n",
    "for date in dates:\n",
    "    file_name = f\"{exchange}_{symbol}_{prefix}_{date.strftime('%Y_%m_%d')}.parquet\"\n",
    "    df_single = pd.read_parquet(os.path.join(path, file_name))\n",
    "    if date  == start_date:\n",
    "        df = df_single\n",
    "    else:\n",
    "        df = pd.concat([df, df_single])\n",
    "    \n",
    "df.sort_index(inplace=True)"
   ]
  },
  {
   "cell_type": "code",
   "execution_count": null,
   "metadata": {},
   "outputs": [],
   "source": [
    "df"
   ]
  },
  {
   "cell_type": "code",
   "execution_count": null,
   "metadata": {},
   "outputs": [],
   "source": [
    "for i in range(3):\n",
    "    vols_level = list(df[f\"bid_{i}_size\"].values) + list(df[f\"ask_{i}_size\"].values)\n",
    "    \n",
    "    fig = plt.figure(figsize=(10, 5))\n",
    "    plt.hist(vols_level, bins=100, log=True)\n",
    "    plt.xlabel(\"Volume\")\n",
    "    plt.ylabel(\"Frequency\")\n",
    "    plt.title(f\"Volume distribution for level {i+1}\")\n",
    "    plt.show()"
   ]
  },
  {
   "cell_type": "code",
   "execution_count": null,
   "metadata": {},
   "outputs": [],
   "source": [
    "vols_level_0 = list(df[f\"bid_0_size\"].values) + list(df[f\"ask_0_size\"].values)\n",
    "vols_level_1 = list(df[f\"bid_1_size\"].values) + list(df[f\"ask_1_size\"].values)\n",
    "vols_level_2 = list(df[f\"bid_2_size\"].values) + list(df[f\"ask_2_size\"].values)\n",
    "\n",
    "# # Make the assumption that there are on average 2 orders per level\n",
    "# vols_level_0 = [vol/2 for vol in vols_level_0]\n",
    "# vols_level_1 = [vol/2 for vol in vols_level_1]\n",
    "# vols_level_2 = [vol/2 for vol in vols_level_2]\n",
    "\n",
    "# Save the data\n",
    "ensure_dir_exists(os.path.join(os.getcwd(), \"distributions\"))\n",
    "\n",
    "# Save all three lists as pickle files\n",
    "vols_level_0 = pd.Series(vols_level_0)\n",
    "vols_level_1 = pd.Series(vols_level_1)\n",
    "vols_level_2 = pd.Series(vols_level_2)\n",
    "vols_level_0.to_pickle(\n",
    "    os.path.join(os.getcwd(), \"distributions\", \"volumes_level_0.pkl\")\n",
    ")\n",
    "vols_level_1.to_pickle(\n",
    "    os.path.join(os.getcwd(), \"distributions\", \"volumes_level_1.pkl\")\n",
    ")\n",
    "vols_level_2.to_pickle(\n",
    "    os.path.join(os.getcwd(), \"distributions\", \"volumes_level_2.pkl\")\n",
    ")"
   ]
  },
  {
   "cell_type": "code",
   "execution_count": null,
   "metadata": {},
   "outputs": [],
   "source": [
    "class EmpiricalOrderVolumeDistribution():\n",
    "    \"\"\"\n",
    "    Class for sampling order volumes from the empirical distribution estimated\n",
    "    on the insample order book data.\n",
    "    \"\"\"\n",
    "    \n",
    "    def __init__(self) -> None:\n",
    "        \"\"\"\n",
    "        Initialize the class by loading the volume distributions from the pickle\n",
    "        files.\n",
    "        \"\"\"\n",
    "        self.vols_level_0 = pd.read_pickle(\n",
    "            os.path.join(os.getcwd(), \"distributions\", \"volumes_level_0.pkl\")\n",
    "        )\n",
    "        self.vols_level_1 = pd.read_pickle(\n",
    "            os.path.join(os.getcwd(), \"distributions\", \"volumes_level_1.pkl\")\n",
    "        )\n",
    "        self.vols_level_2 = pd.read_pickle(\n",
    "            os.path.join(os.getcwd(), \"distributions\", \"volumes_level_2.pkl\")\n",
    "        )\n",
    "        \n",
    "    def sample(self, level: int) -> float:\n",
    "        \"\"\"\n",
    "        Sample a volume from the empirical distribution.\n",
    "\n",
    "        Args:\n",
    "            level: The level of the order book to sample from.\n",
    "\n",
    "        Returns:\n",
    "            The sampled volume.\n",
    "        \"\"\"\n",
    "        if level == 0:\n",
    "            return self.vols_level_0.sample().values[0]\n",
    "        elif level == 1:\n",
    "            return self.vols_level_1.sample().values[0]\n",
    "        elif level == 2:\n",
    "            return self.vols_level_2.sample().values[0]\n",
    "        else:\n",
    "            raise ValueError(\"Level must be between 0 and 2.\")"
   ]
  },
  {
   "cell_type": "code",
   "execution_count": null,
   "metadata": {},
   "outputs": [],
   "source": [
    "dist = EmpiricalOrderVolumeDistribution()\n",
    "for i in range(100):\n",
    "    print(dist.sample(2))\n",
    "    "
   ]
  }
 ],
 "metadata": {
  "kernelspec": {
   "display_name": "data-gI9vukfY-py3.10",
   "language": "python",
   "name": "python3"
  },
  "language_info": {
   "codemirror_mode": {
    "name": "ipython",
    "version": 3
   },
   "file_extension": ".py",
   "mimetype": "text/x-python",
   "name": "python",
   "nbconvert_exporter": "python",
   "pygments_lexer": "ipython3",
   "version": "3.10.2"
  }
 },
 "nbformat": 4,
 "nbformat_minor": 2
}
