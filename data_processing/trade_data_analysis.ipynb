{
 "cells": [
  {
   "cell_type": "markdown",
   "metadata": {},
   "source": [
    "# Exploratory analysis of trade data\n",
    "\n",
    "In this notebook I explore the datasets and plot some of the data."
   ]
  },
  {
   "cell_type": "code",
   "execution_count": null,
   "metadata": {},
   "outputs": [],
   "source": [
    "import os\n",
    "import datetime\n",
    "import polars as pl\n",
    "import matplotlib.pyplot as plt\n",
    "import pandas as pd\n",
    "\n",
    "from data.utils import (\n",
    "    get_list_of_second_timestamps,\n",
    "    get_rnd_id,\n",
    "    set_plot_style,\n",
    "    ensure_dir_exists\n",
    ")\n",
    "\n",
    "set_plot_style()"
   ]
  },
  {
   "cell_type": "code",
   "execution_count": null,
   "metadata": {},
   "outputs": [],
   "source": [
    "# Indicate whether to save figures\n",
    "save_fig = False\n",
    "\n",
    "# Set path for figures saving\n",
    "FIGURES_PATH = \"/home/juraj/Projects/thesis-market-making/thesis/images\"\n",
    "ensure_dir_exists(FIGURES_PATH)"
   ]
  },
  {
   "cell_type": "code",
   "execution_count": null,
   "metadata": {},
   "outputs": [],
   "source": [
    "# Set the exchange and symbol\n",
    "# exchange = \"BINANCE\"\n",
    "# exchange = \"OKX\"\n",
    "# exchange = \"GATEIO\"\n",
    "exchange = \"BIT.COM\"\n",
    "\n",
    "symbol = \"SOL-USDT\""
   ]
  },
  {
   "cell_type": "markdown",
   "metadata": {},
   "source": [
    "### Load multiple dataframes"
   ]
  },
  {
   "cell_type": "code",
   "execution_count": null,
   "metadata": {},
   "outputs": [],
   "source": [
    "# Set parameters\n",
    "start_date = datetime.datetime(2023, 9, 1)\n",
    "end_date = datetime.datetime(2023, 9, 13)\n",
    "path = os.path.join(os.getcwd(), \"datasets\")\n",
    "second = False"
   ]
  },
  {
   "cell_type": "code",
   "execution_count": null,
   "metadata": {},
   "outputs": [],
   "source": [
    "# Generate a list of dates\n",
    "dates = [start_date + datetime.timedelta(days=x) for x in range((end_date - start_date).days + 1)]"
   ]
  },
  {
   "cell_type": "code",
   "execution_count": null,
   "metadata": {},
   "outputs": [],
   "source": [
    "# Load the data\n",
    "prefix = \"trades\"\n",
    "for date in dates:\n",
    "    file_name = f\"{exchange}_{symbol}_{prefix}_{date.strftime('%Y_%m_%d')}.parquet\"\n",
    "    # df_single = pl.read_parquet(os.path.join(path, file_name))\n",
    "    df_single = pd.read_parquet(os.path.join(path, file_name))\n",
    "    if date  == start_date:\n",
    "        df = df_single\n",
    "    else:\n",
    "        df = pd.concat([df, df_single])\n",
    "        \n",
    "df.set_index(\"received_time\", inplace=True)"
   ]
  },
  {
   "cell_type": "code",
   "execution_count": null,
   "metadata": {},
   "outputs": [],
   "source": [
    "# Process the data for each day\n",
    "avg_buy_volume = 0\n",
    "avg_sell_volume = 0\n",
    "avg_buy_orders = 0\n",
    "avg_sell_orders = 0\n",
    "\n",
    "prefix = \"trades\"\n",
    "for date in dates:\n",
    "    file_name = f\"{exchange}_{symbol}_{prefix}_{date.strftime('%Y_%m_%d')}.parquet\"\n",
    "    # df_single = pl.read_parquet(os.path.join(path, file_name))\n",
    "    df_single = pd.read_parquet(os.path.join(path, file_name))\n",
    "    print(f\"Statistics for date: {date.strftime('%Y-%m-%d')}\")\n",
    "    \n",
    "    # Compute the number of buy and sell orders\n",
    "    buy_orders = df_single[df_single[\"side\"] == \"buy\"]\n",
    "    sell_orders = df_single[df_single[\"side\"] == \"sell\"]\n",
    "    avg_buy_orders += buy_orders.shape[0]\n",
    "    avg_sell_orders += sell_orders.shape[0]\n",
    "    print(f\"Number of buy orders: {buy_orders.shape[0]}\")\n",
    "    print(f\"Number of sell orders: {sell_orders.shape[0]}\")\n",
    "    \n",
    "    # Compute the total volume of buy and sell orders\n",
    "    buy_volume = buy_orders[\"quantity\"].sum()\n",
    "    sell_volume = sell_orders[\"quantity\"].sum()\n",
    "    avg_buy_volume += buy_volume\n",
    "    avg_sell_volume += sell_volume\n",
    "    print(f\"Total buy volume: {round(buy_volume, 2)}\")\n",
    "    print(f\"Total sell volume: {round(sell_volume, 2)}\")\n",
    "    \n",
    "    # Compute the total volume\n",
    "    total_volume = df_single[\"quantity\"].sum()\n",
    "    print()\n",
    "\n",
    "# Compute the average number of buy and sell orders\n",
    "avg_buy_orders /= len(dates)\n",
    "avg_sell_orders /= len(dates)\n",
    "print(f\"Average number of buy orders: {round(avg_buy_orders, 2)}\")\n",
    "print(f\"Average number of sell orders: {round(avg_sell_orders, 2)}\")\n",
    "\n",
    "# Compute the average buy and sell volume\n",
    "avg_buy_volume /= len(dates)\n",
    "avg_sell_volume /= len(dates)\n",
    "print(f\"Average buy volume: {round(avg_buy_volume, 2)}\")\n",
    "print(f\"Average sell volume: {round(avg_sell_volume, 2)}\")"
   ]
  },
  {
   "cell_type": "code",
   "execution_count": null,
   "metadata": {},
   "outputs": [],
   "source": [
    "df.head(10)"
   ]
  },
  {
   "cell_type": "code",
   "execution_count": null,
   "metadata": {},
   "outputs": [],
   "source": [
    "# Separate \n",
    "buy_orders = df[df[\"side\"] == \"buy\"]\n",
    "sell_orders = df[df[\"side\"] == \"sell\"]\n",
    "# buy_orders.set_index(\"received_time\")\n",
    "# sell_orders.set_index(\"received_time\")\n",
    "\n",
    "# Check the number of buy and sell orders\n",
    "print(f\"Number of buy orders: {buy_orders.shape[0]}\")\n",
    "print(f\"Number of sell orders: {sell_orders.shape[0]}\")"
   ]
  },
  {
   "cell_type": "markdown",
   "metadata": {},
   "source": [
    "### Visualize buy and sell volumes"
   ]
  },
  {
   "cell_type": "code",
   "execution_count": null,
   "metadata": {},
   "outputs": [],
   "source": [
    "# Plot hours only instead of full timestamps\n",
    "from matplotlib.dates import DateFormatter\n",
    "date_format = DateFormatter(\"%H:%M\")"
   ]
  },
  {
   "cell_type": "code",
   "execution_count": null,
   "metadata": {},
   "outputs": [],
   "source": [
    "# Define custom colors\n",
    "color_green = \"#13961a\"\n",
    "color_red = \"#eb5c14\""
   ]
  },
  {
   "cell_type": "code",
   "execution_count": null,
   "metadata": {},
   "outputs": [],
   "source": [
    "# Visualize the buy volumes\n",
    "fig = plt.figure(figsize=(12, 4))\n",
    "plt.plot(buy_orders['quantity'], color=color_green)\n",
    "# plt.gca().xaxis.set_major_formatter(date_format)\n",
    "plt.xlabel('Time')\n",
    "plt.ylabel('Volume (SOL)')\n",
    "\n",
    "plt.tight_layout()\n",
    "# plt.show()\n",
    "\n",
    "# Save the figure\n",
    "if save_fig:\n",
    "    fig.savefig(f\"{FIGURES_PATH}/{exchange}_{symbol}_buy_volume.pdf\")"
   ]
  },
  {
   "cell_type": "code",
   "execution_count": null,
   "metadata": {},
   "outputs": [],
   "source": [
    "# # Compute the changes in incoming volume\n",
    "# buy_volume_diff = buy_orders[\"quantity\"].diff()\n",
    "\n",
    "# # Plot the changes in incoming buy volume\n",
    "# plt.figure(figsize=(10, 4))\n",
    "# plt.plot(buy_volume_diff, color=color_green)\n",
    "# plt.xlabel('Time')\n",
    "# plt.ylabel('Volume change')\n",
    "# plt.tight_layout()\n",
    "# plt.show()"
   ]
  },
  {
   "cell_type": "code",
   "execution_count": null,
   "metadata": {},
   "outputs": [],
   "source": [
    "# # Merge the above two plots into one figure with two subplots\n",
    "# fig, (ax1, ax2) = plt.subplots(2, 1, figsize=(12, 8))\n",
    "# ax1.plot(buy_orders['quantity'], color=color_green)\n",
    "# ax1.set_ylabel('Volume')\n",
    "# ax2.plot(buy_volume_diff, color=color_green)\n",
    "# ax2.set_ylabel('Volume change')\n",
    "# plt.xlabel('Time')\n",
    "# plt.tight_layout()\n",
    "\n",
    "# # Change tick label size\n",
    "# # ax1.tick_params(axis='x', labelsize=18)\n",
    "# # ax1.tick_params(axis='y', labelsize=18)\n",
    "# plt.show()\n",
    "\n",
    "# # Save the figure\n",
    "# # if save_fig:\n",
    "# #     fig.savefig(f\"{FIGURES_PATH}/buy_volume.pdf\")"
   ]
  },
  {
   "cell_type": "code",
   "execution_count": null,
   "metadata": {},
   "outputs": [],
   "source": [
    "# buy_volume_diff.describe()"
   ]
  },
  {
   "cell_type": "code",
   "execution_count": null,
   "metadata": {},
   "outputs": [],
   "source": [
    "# Visualize the sell volumes\n",
    "fig = plt.figure(figsize=(12, 4))\n",
    "plt.plot(sell_orders['quantity'], color=color_red)\n",
    "# plt.gca().xaxis.set_major_formatter(date_format)\n",
    "plt.xlabel('Time')\n",
    "plt.ylabel('Volume (SOL)')\n",
    "plt.tight_layout()\n",
    "# plt.show()\n",
    "\n",
    "# Save the figure\n",
    "if save_fig:\n",
    "    fig.savefig(f\"{FIGURES_PATH}/{exchange}_{symbol}_sell_volume.pdf\")"
   ]
  },
  {
   "cell_type": "code",
   "execution_count": null,
   "metadata": {},
   "outputs": [],
   "source": [
    "# # Compute the changes in incoming volume\n",
    "# sell_volume_diff = sell_orders[\"quantity\"].diff()\n",
    "\n",
    "# # Plot the changes in incoming buy volume\n",
    "# plt.figure(figsize=(10, 4))\n",
    "# plt.plot(sell_volume_diff, color=color_red)\n",
    "# plt.xlabel('Time')\n",
    "# plt.ylabel('Volume change')\n",
    "# plt.tight_layout()\n",
    "# plt.show()"
   ]
  },
  {
   "cell_type": "code",
   "execution_count": null,
   "metadata": {},
   "outputs": [],
   "source": [
    "# # Merge the above two plots into one figure with two subplots\n",
    "# fig, (ax1, ax2) = plt.subplots(2, 1, figsize=(12, 8))\n",
    "# ax1.plot(sell_orders['quantity'], color=color_red)\n",
    "# ax1.set_ylabel('Volume')\n",
    "# ax2.plot(sell_volume_diff, color=color_red)\n",
    "# ax2.set_ylabel('Volume change')\n",
    "# plt.xlabel('Time')\n",
    "# plt.tight_layout()\n",
    "# plt.show()\n",
    "\n",
    "# # Save the figure\n",
    "# if save_fig:\n",
    "#     fig.savefig(f\"{FIGURES_PATH}/sell_volume.pdf\")"
   ]
  },
  {
   "cell_type": "code",
   "execution_count": null,
   "metadata": {},
   "outputs": [],
   "source": [
    "# sell_volume_diff.describe()"
   ]
  },
  {
   "cell_type": "markdown",
   "metadata": {},
   "source": [
    "### Volume histograms"
   ]
  },
  {
   "cell_type": "code",
   "execution_count": null,
   "metadata": {},
   "outputs": [],
   "source": [
    "# buy_orders_describe = buy_orders.filter()\n",
    "# buy_orders.describe()"
   ]
  },
  {
   "cell_type": "code",
   "execution_count": null,
   "metadata": {},
   "outputs": [],
   "source": [
    "# Visualize the buy volumes (excluding outliers at 0.99 quantile)\n",
    "# buy_filtered = buy_orders.filter(pl.col('quantity') < buy_orders['quantity'].quantile(0.99))\n",
    "\n",
    "fig = plt.figure(figsize=(12, 4))\n",
    "# plt.figure(figsize=(12, 4))\n",
    "plt.hist(buy_orders['quantity'], bins=100, color=color_green, edgecolor='black', linewidth=1.1, log=True)\n",
    "# plt.hist(buy_orders[buy_orders[\"quantity\"] > 0][\"quantity\"], bins=100, color=color_green, edgecolor='black', linewidth=1.1, log=True)\n",
    "plt.xlabel('Volume (SOL)')\n",
    "plt.ylabel('Count')\n",
    "plt.tight_layout()\n",
    "plt.show()\n",
    "\n",
    "# Save the figure\n",
    "if save_fig:\n",
    "    fig.savefig(f\"{FIGURES_PATH}/{exchange}_{symbol}_buy_volume_hist.pdf\")"
   ]
  },
  {
   "cell_type": "code",
   "execution_count": null,
   "metadata": {},
   "outputs": [],
   "source": [
    "# Visualize the sell volumes (excluding outliers at 0.99 quantile)\n",
    "# sell_filtered = sell_orders.filter(pl.col('quantity') < sell_orders['quantity'].quantile(0.99))\n",
    "\n",
    "fig = plt.figure(figsize=(12, 4))\n",
    "plt.hist(sell_orders['quantity'], bins=100, color=color_red, edgecolor='black', linewidth=1.1, log=True)\n",
    "plt.xlabel('Volume (SOL)')\n",
    "plt.ylabel('Count')\n",
    "plt.tight_layout()\n",
    "plt.show()\n",
    "\n",
    "# Save the figure\n",
    "if save_fig:\n",
    "    fig.savefig(f\"{FIGURES_PATH}/{exchange}_{symbol}_sell_volume_hist.pdf\")"
   ]
  },
  {
   "cell_type": "code",
   "execution_count": null,
   "metadata": {},
   "outputs": [],
   "source": [
    "# Describe the buy orders statistics\n",
    "buy_orders.describe()"
   ]
  },
  {
   "cell_type": "code",
   "execution_count": null,
   "metadata": {},
   "outputs": [],
   "source": [
    "# Describe the sell orders statistics\n",
    "sell_orders.describe()"
   ]
  },
  {
   "cell_type": "markdown",
   "metadata": {},
   "source": [
    "### Trade flow imbalance"
   ]
  },
  {
   "cell_type": "code",
   "execution_count": null,
   "metadata": {},
   "outputs": [],
   "source": [
    "# Resample the data to 1 minute intervals\n",
    "buy_orders_1min = buy_orders[\"quantity\"].resample(\"1min\").sum()\n",
    "sell_order_1min = sell_orders[\"quantity\"].resample(\"1min\").sum()"
   ]
  },
  {
   "cell_type": "code",
   "execution_count": null,
   "metadata": {},
   "outputs": [],
   "source": [
    "# Compute the order flow imbalance\n",
    "eps = 1e-8\n",
    "denominator = buy_orders_1min + sell_order_1min\n",
    "denominator = denominator.replace(0, eps)\n",
    "imbalance = (buy_orders_1min - sell_order_1min) / denominator"
   ]
  },
  {
   "cell_type": "code",
   "execution_count": null,
   "metadata": {},
   "outputs": [],
   "source": [
    "# # Describe the order flow imbalance statistics\n",
    "imbalance.describe()"
   ]
  },
  {
   "cell_type": "code",
   "execution_count": null,
   "metadata": {},
   "outputs": [],
   "source": [
    "# # Visualize the order flow imbalance\n",
    "start_index = 720\n",
    "end_index = 1080\n",
    "\n",
    "fig = plt.figure(figsize=(12, 4))\n",
    "plt.plot(imbalance[start_index:end_index], color='black')\n",
    "plt.gca().xaxis.set_major_formatter(date_format)\n",
    "plt.xlabel('Time (hours)')\n",
    "plt.ylabel('Order flow imbalance')\n",
    "plt.tight_layout()\n",
    "plt.show()\n",
    "\n",
    "# Save the figure\n",
    "if save_fig:\n",
    "    fig.savefig(f\"{FIGURES_PATH}/{exchange}_{symbol}_trade_flow_imbalance.pdf\")\n"
   ]
  },
  {
   "cell_type": "markdown",
   "metadata": {},
   "source": [
    "### Volume differences analysis"
   ]
  },
  {
   "cell_type": "code",
   "execution_count": null,
   "metadata": {},
   "outputs": [],
   "source": []
  },
  {
   "cell_type": "markdown",
   "metadata": {},
   "source": [
    "### Load single dataframe"
   ]
  },
  {
   "cell_type": "code",
   "execution_count": null,
   "metadata": {},
   "outputs": [],
   "source": [
    "# Set parameters\n",
    "date = datetime.datetime(2023, 9, 1)\n",
    "path = os.path.join(os.getcwd(), \"datasets\")\n",
    "second = True"
   ]
  },
  {
   "cell_type": "code",
   "execution_count": null,
   "metadata": {},
   "outputs": [],
   "source": [
    "seconds = get_list_of_second_timestamps(date)"
   ]
  },
  {
   "cell_type": "code",
   "execution_count": null,
   "metadata": {},
   "outputs": [],
   "source": [
    "# Load the data\n",
    "prefix = \"trades\"\n",
    "file_name = f\"{exchange}_{symbol}_{prefix}_{date.strftime('%Y_%m_%d')}.parquet\"\n",
    "df = pl.read_parquet(os.path.join(path, file_name))"
   ]
  },
  {
   "cell_type": "code",
   "execution_count": null,
   "metadata": {},
   "outputs": [],
   "source": [
    "df.head(10)"
   ]
  },
  {
   "cell_type": "code",
   "execution_count": null,
   "metadata": {},
   "outputs": [],
   "source": [
    "# select all rows where the 'column_name' column has the value 'value'\n",
    "buy_orders = df.filter(pl.col('side') == 'buy')\n",
    "sell_orders = df.filter(pl.col('side') == 'sell')"
   ]
  },
  {
   "cell_type": "code",
   "execution_count": null,
   "metadata": {},
   "outputs": [],
   "source": [
    "# Check the number of buy and sell orders\n",
    "print(f\"Number of buy orders: {buy_orders.shape[0]}\")\n",
    "print(f\"Number of sell orders: {sell_orders.shape[0]}\")"
   ]
  },
  {
   "cell_type": "code",
   "execution_count": null,
   "metadata": {},
   "outputs": [],
   "source": [
    "# Check that there is no timestamp duplication\n",
    "assert len(buy_orders['received_time'].unique()) == len(buy_orders[\"received_time\"])\n",
    "assert len(sell_orders['received_time'].unique()) == len(sell_orders[\"received_time\"])"
   ]
  }
 ],
 "metadata": {
  "kernelspec": {
   "display_name": "data-gI9vukfY-py3.10",
   "language": "python",
   "name": "python3"
  },
  "language_info": {
   "codemirror_mode": {
    "name": "ipython",
    "version": 3
   },
   "file_extension": ".py",
   "mimetype": "text/x-python",
   "name": "python",
   "nbconvert_exporter": "python",
   "pygments_lexer": "ipython3",
   "version": "3.10.2"
  }
 },
 "nbformat": 4,
 "nbformat_minor": 2
}
